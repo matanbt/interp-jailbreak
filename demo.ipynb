{
 "cells": [
  {
   "cell_type": "markdown",
   "id": "2087eaa8",
   "metadata": {},
   "source": [
    "## Demo: Assesing hijacking of GCG suffixes"
   ]
  },
  {
   "cell_type": "code",
   "execution_count": 1,
   "id": "158d0c97",
   "metadata": {},
   "outputs": [
    {
     "name": "stderr",
     "output_type": "stream",
     "text": [
      "/a/home/cc/students/cs/matanbentov/.local/lib/python3.8/site-packages/pandas/core/computation/expressions.py:20: UserWarning: Pandas requires version '2.7.3' or newer of 'numexpr' (version '2.7.1' currently installed).\n",
      "  from pandas.core.computation.check import NUMEXPR_INSTALLED\n"
     ]
    }
   ],
   "source": [
    "import pandas as pd\n",
    "import plotly.express as px\n",
    "import plotly.io as pio\n",
    "pio.renderers.default = \"svg\"  # 'html'\n",
    "pio.templates.default = \"plotly_white\""
   ]
  },
  {
   "cell_type": "code",
   "execution_count": null,
   "id": "da51a7cf",
   "metadata": {},
   "outputs": [],
   "source": [
    "# TODO remove:\n",
    "# import os\n",
    "# import sys\n",
    "# os.getcwd()\n",
    "# project_dir = '/home/sharifm/students/matanbentov/interp-jailbreak-github/'\n",
    "# os.chdir(project_dir)\n",
    "\n",
    "# # os.environ[\"HF_HOME\"] = \"/home/sharifm/students/matanbentov\"  # modify to home defaco dir\n",
    "\n",
    "# # Add the project directory to the sys.path to ensure Python imports from there\n",
    "# sys.path.append(project_dir)\n",
    "\n",
    "from src.interp.utils import load_model\n",
    "from src.evaluate.utils import load_data"
   ]
  },
  {
   "cell_type": "code",
   "execution_count": null,
   "id": "dfcea52d",
   "metadata": {},
   "outputs": [
    {
     "data": {
      "application/vnd.jupyter.widget-view+json": {
       "model_id": "f25bdbdc0ec24998a45d315865f2b9e4",
       "version_major": 2,
       "version_minor": 0
      },
      "text/plain": [
       "Loading checkpoint shards:   0%|          | 0/2 [00:00<?, ?it/s]"
      ]
     },
     "metadata": {},
     "output_type": "display_data"
    },
    {
     "name": "stdout",
     "output_type": "stream",
     "text": [
      "Loaded pretrained model google/gemma-2-2b-it into HookedTransformer\n"
     ]
    }
   ],
   "source": [
    "model_name = \"google/gemma-2-2b-it\"\n",
    "# model_name = \"qwen/qwen2.5-1.5b-instruct\"\n",
    "# model_name = \"meta-llama/llama-3-8b-instruct\"\n",
    "\n",
    "\n",
    "data_df = load_data(model_name=model_name)\n",
    "\n",
    "model = load_model(model_name)"
   ]
  },
  {
   "cell_type": "markdown",
   "id": "8fd02be0",
   "metadata": {},
   "source": [
    "### EDAing the GCG dataset"
   ]
  },
  {
   "cell_type": "code",
   "execution_count": null,
   "id": "d9fc91c8",
   "metadata": {},
   "outputs": [
    {
     "name": "stdout",
     "output_type": "stream",
     "text": [
      ">> dataset size: 952926 rows.\n",
      ">> 1286 different GCG suffixes, evaluated on 741 messages.\n"
     ]
    },
    {
     "name": "stderr",
     "output_type": "stream",
     "text": [
      "huggingface/tokenizers: The current process just got forked, after parallelism has already been used. Disabling parallelism to avoid deadlocks...\n",
      "To disable this warning, you can either:\n",
      "\t- Avoid using `tokenizers` before the fork if possible\n",
      "\t- Explicitly set the environment variable TOKENIZERS_PARALLELISM=(true | false)\n"
     ]
    }
   ],
   "source": [
    "print(f\">> dataset size: {data_df.shape[0]} rows.\")\n",
    "print(f\">> {data_df.suffix_id.nunique()} different GCG suffixes, evaluated on {data_df.message_id.nunique()} messages.\")\n",
    "\n",
    "univ_scores = data_df.groupby('suffix_id').agg({'univ_score': 'first'}).sort_values(by='univ_score', ascending=False).reset_index()\n",
    "px.bar(\n",
    "    univ_scores,\n",
    "    x='univ_score',\n",
    "    title=f\"GCG suffixes' Universal Scores ({model_name})\",\n",
    "    labels={'universal_score': 'Universal Score'},\n",
    ").show()"
   ]
  },
  {
   "cell_type": "markdown",
   "id": "bf755d39",
   "metadata": {},
   "source": [
    "### Dominance score\n",
    "\n",
    "Quantifying the dominance score across the layers (reproducing Fig. 5 in the paper)."
   ]
  },
  {
   "cell_type": "code",
   "execution_count": null,
   "id": "3c31b627",
   "metadata": {},
   "outputs": [],
   "source": [
    "\n",
    "\n",
    "def show_dominance_area_plot(dom_scores, name=None):\n",
    "    ## build df:\n",
    "    df = []\n",
    "    for src_name, values in dom_scores.items():\n",
    "        for layer, val in enumerate(values):\n",
    "            df.append({\n",
    "                'src_name': src_name,\n",
    "                'layer': layer,\n",
    "                'val': val.item()\n",
    "            })\n",
    "    df = pd.DataFrame(df)\n",
    "\n",
    "    colors = {\n",
    "        'bos': '#A9A9A9',       # Dark grey\n",
    "        'chat_pre': '#D3D3D3',  # Light grey\n",
    "        'instr': '#4B77BE',     # Dark green\n",
    "        'adv': \"#E8362D\",           # Dark red\n",
    "        'chat[:-1]': '#FFA500',      # Orange\n",
    "        'chat[-1]': '#FFB84D'       # Light orange-yellow (subtler)\n",
    "    }\n",
    "\n",
    "    px.area(\n",
    "        df,\n",
    "        x='layer',\n",
    "        y='val',\n",
    "        color='src_name',\n",
    "        labels={'val': 'Dominance Score', 'layer': 'Layer', 'src_name': 'Source Subseq.'},\n",
    "        color_discrete_map=colors,\n",
    "        width=500, height=350,\n",
    "        template='plotly_white',\n",
    "        title=f\"Dominance Scores to 'chat[-1]'\" + (f' ({name})' if name else ''),\n",
    "    ).show()"
   ]
  },
  {
   "cell_type": "code",
   "execution_count": null,
   "id": "679f78d2",
   "metadata": {},
   "outputs": [],
   "source": [
    "# from src.interp.dominance_tools import get_adv_hijack_score\n",
    "import src.interp.dominance_tools as dominance_tools\n",
    "from importlib import reload\n",
    "reload(dominance_tools)\n",
    "\n",
    "message = data_df[data_df.message_id == 619].iloc[0].message_str\n",
    "suffix_rand = data_df[data_df.suffix_cat == 'init'].suffix_str.iloc[0]\n",
    "suffix_gcg = data_df[data_df.suffix_rank == 0].suffix_str.iloc[0]\n",
    "\n",
    "for suffix_name, suffix_str in [('random suffix', suffix_rand), ('GCG suffix', suffix_gcg)]:\n",
    "    dom_scores = dominance_tools.get_dom_scores(\n",
    "        model, model_base,  # TODO get rid of one of them (preferably model_base)\n",
    "        message, suffix_str,\n",
    "        # src_slc_name = 'adv',  # 'instr','adv', 'input',\n",
    "        dst_slc_name = 'chat[-1]',\n",
    "        hijacking_metric ='Y@attn',  # 'Y@resid', 'Y@attn', 'X@WVO@attn', 'Y@dcmp_resid', 'Y@dir\n",
    "        hijacking_metric_flavor = 'sum',  # 'sum', 'sum-top0.1'\n",
    "    )\n",
    "\n",
    "    show_dominance_area_plot(dom_scores, name=suffix_name)"
   ]
  },
  {
   "cell_type": "markdown",
   "id": "b6af7a1c",
   "metadata": {},
   "source": [
    "### Hijacking vs Universality\n",
    "\n",
    "Comparing suffixes' universality to their hijacking (repeating analysis in Fig. 8, in small scale)."
   ]
  },
  {
   "cell_type": "code",
   "execution_count": null,
   "id": "fb210490",
   "metadata": {},
   "outputs": [],
   "source": [
    "import random\n",
    "import numpy as np\n",
    "\n",
    "random.seed(42)\n",
    "message_ids = random.sample(data_df.message_id.unique().tolist(), 5)\n",
    "# suffix_ids = list(range(0, data_df.suffix_id.nunique(), data_df.suffix_id.nunique() // 20))  # TODO more\n",
    "suffix_ids = []\n",
    "intervals = [0, 0.05] + np.arange(0.10, data_df.univ_score.max(), 0.10).tolist()\n",
    "for i in range(len(intervals) - 1):\n",
    "    interval = (intervals[i], intervals[i + 1])\n",
    "    suffixes_in_interval =  data_df[data_df.univ_score.between(*interval)].suffix_id.unique().tolist()\n",
    "    suffix_ids.extend(random.sample(\n",
    "       suffixes_in_interval, min(10, len(suffixes_in_interval))\n",
    "    ))\n",
    "\n",
    "print(f\"{len(message_ids)=}, {len(suffix_ids)=}\")"
   ]
  },
  {
   "cell_type": "code",
   "execution_count": null,
   "id": "4949b39c",
   "metadata": {},
   "outputs": [],
   "source": [
    "from tqdm.contrib.itertools import product\n",
    "import src.interp.dominance_tools as dominance_tools\n",
    "\n",
    "df = []\n",
    "\n",
    "for message_id, suffix_id in product(message_ids, suffix_ids):\n",
    "    message_str = data_df[data_df.message_id == message_id].iloc[0].message_str\n",
    "    suffix_row = data_df[data_df.suffix_id == suffix_id].iloc[0]\n",
    "    suffix_str, suffix_univ, suffix_id = suffix_row.suffix_str, suffix_row.univ_score, suffix_row.suffix_id\n",
    "\n",
    "    dom_scores = dominance_tools.get_dom_scores(\n",
    "        model,\n",
    "        message_str, suffix_str,\n",
    "        dst_slc_name = 'chat[-1]',\n",
    "        hijacking_metric ='Y@attn',\n",
    "        hijacking_metric_flavor = 'sum',\n",
    "    )\n",
    "    hijacking_strength = dom_scores['adv'][20].item()  # adv's dominance score at layer 20 (for Gemma-2-2b-it)\n",
    "\n",
    "    df.append({\n",
    "        'message_id': message_id,\n",
    "        'suffix_id': suffix_id,\n",
    "        'message_str': message_str,\n",
    "        'suffix_str': suffix_str,\n",
    "        'suffix_univ': suffix_univ,\n",
    "        'hijacking_strength': hijacking_strength\n",
    "    })\n",
    "\n",
    "df = pd.DataFrame(df)"
   ]
  },
  {
   "cell_type": "code",
   "execution_count": null,
   "id": "faf47880",
   "metadata": {},
   "outputs": [],
   "source": [
    "from scipy.stats import spearmanr\n",
    "agg_df = df[['suffix_id', 'suffix_univ', 'hijacking_strength']].groupby('suffix_id').mean().reset_index()\n",
    "spearman_corr, _ = spearmanr(agg_df.suffix_univ, agg_df.hijacking_strength)\n",
    "\n",
    "px.scatter(\n",
    "    # agg_df,\n",
    "    df,\n",
    "    color='suffix_id',\n",
    "    x='suffix_univ',\n",
    "    y='hijacking_strength',\n",
    "    labels={'suffix_univ': \"Suffix's Universality Score\", 'hijacking_strength': 'Hijacking Strength'},\n",
    "    title=f'Hijacking vs. Universality (Spearman={spearman_corr:.2f})',\n",
    "    width=500, height=350,\n",
    "    trendline=\"ols\",\n",
    "    # log_x=True,\n",
    ")"
   ]
  },
  {
   "cell_type": "code",
   "execution_count": null,
   "id": "d30d2116",
   "metadata": {},
   "outputs": [],
   "source": []
  }
 ],
 "metadata": {
  "kernelspec": {
   "display_name": "Python 3 (ipykernel)",
   "language": "python",
   "name": "python3"
  },
  "language_info": {
   "codemirror_mode": {
    "name": "ipython",
    "version": 3
   },
   "file_extension": ".py",
   "mimetype": "text/x-python",
   "name": "python",
   "nbconvert_exporter": "python",
   "pygments_lexer": "ipython3",
   "version": "3.8.5"
  }
 },
 "nbformat": 4,
 "nbformat_minor": 5
}
