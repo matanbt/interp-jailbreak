{
 "cells": [
  {
   "cell_type": "markdown",
   "id": "2087eaa8",
   "metadata": {},
   "source": [
    "## Demo: Assesing hijacking of GCG suffixes"
   ]
  },
  {
   "cell_type": "markdown",
   "id": "e0fc49f4",
   "metadata": {},
   "source": [
    "### Setup"
   ]
  },
  {
   "cell_type": "code",
   "execution_count": 1,
   "id": "158d0c97",
   "metadata": {},
   "outputs": [
    {
     "name": "stderr",
     "output_type": "stream",
     "text": [
      "/a/home/cc/students/cs/matanbentov/.local/lib/python3.8/site-packages/pandas/core/computation/expressions.py:20: UserWarning: Pandas requires version '2.7.3' or newer of 'numexpr' (version '2.7.1' currently installed).\n",
      "  from pandas.core.computation.check import NUMEXPR_INSTALLED\n"
     ]
    }
   ],
   "source": [
    "import pandas as pd\n",
    "import plotly.express as px\n",
    "import plotly.io as pio\n",
    "pio.renderers.default = \"svg\"  # 'html'\n",
    "pio.templates.default = \"plotly_white\""
   ]
  },
  {
   "cell_type": "code",
   "execution_count": 2,
   "id": "da51a7cf",
   "metadata": {},
   "outputs": [],
   "source": [
    "# TODO remove:\n",
    "import os\n",
    "import sys\n",
    "os.getcwd()\n",
    "project_dir = '/home/sharifm/students/matanbentov/interp-jailbreak-dev/'\n",
    "os.chdir(project_dir)\n",
    "\n",
    "# os.environ[\"HF_HOME\"] = \"/home/sharifm/students/matanbentov\"  # modify to home defaco dir\n",
    "\n",
    "# Add the project directory to the sys.path to ensure Python imports from there\n",
    "sys.path.append(project_dir)\n",
    "\n",
    "from src.interp.utils import load_model\n",
    "from src.evaluate.utils import load_data"
   ]
  },
  {
   "cell_type": "code",
   "execution_count": 3,
   "id": "dfcea52d",
   "metadata": {},
   "outputs": [
    {
     "data": {
      "application/vnd.jupyter.widget-view+json": {
       "model_id": "7763ae56d96948249811288c616507b9",
       "version_major": 2,
       "version_minor": 0
      },
      "text/plain": [
       "Loading checkpoint shards:   0%|          | 0/2 [00:00<?, ?it/s]"
      ]
     },
     "metadata": {},
     "output_type": "display_data"
    },
    {
     "name": "stdout",
     "output_type": "stream",
     "text": [
      "Loaded pretrained model google/gemma-2-2b-it into HookedTransformer\n"
     ]
    }
   ],
   "source": [
    "model_name = \"google/gemma-2-2b-it\"\n",
    "# model_name = \"qwen/qwen2.5-1.5b-instruct\"\n",
    "# model_name = \"meta-llama/llama-3-8b-instruct\"\n",
    "\n",
    "\n",
    "data_df = load_data(model_name=model_name)\n",
    "\n",
    "model = load_model(model_name)"
   ]
  },
  {
   "cell_type": "markdown",
   "id": "8fd02be0",
   "metadata": {},
   "source": [
    "### EDAing the GCG dataset"
   ]
  },
  {
   "cell_type": "code",
   "execution_count": 4,
   "id": "d9fc91c8",
   "metadata": {},
   "outputs": [
    {
     "name": "stdout",
     "output_type": "stream",
     "text": [
      ">> dataset size: 952926 rows.\n",
      ">> 1286 different GCG suffixes, evaluated on 741 messages.\n"
     ]
    }
   ],
   "source": [
    "print(f\">> dataset size: {data_df.shape[0]} rows.\")\n",
    "print(f\">> {data_df.suffix_id.nunique()} different GCG suffixes, evaluated on {data_df.message_id.nunique()} messages.\")\n",
    "\n",
    "univ_scores = data_df.groupby('suffix_id').agg({'univ_score': 'first'}).sort_values(by='univ_score', ascending=False).reset_index()\n",
    "# TODO fix\n",
    "# px.bar(\n",
    "#     univ_scores,\n",
    "#     x='univ_score',\n",
    "#     title=f\"GCG suffixes' Universal Scores ({model_name})\",\n",
    "#     labels={'universal_score': 'Universal Score'},\n",
    "# ).show()"
   ]
  },
  {
   "cell_type": "markdown",
   "id": "bf755d39",
   "metadata": {},
   "source": [
    "### Dominance score\n",
    "\n",
    "Quantifying the dominance score across the layers (reproducing Fig. 5 in the paper)."
   ]
  },
  {
   "cell_type": "code",
   "execution_count": 4,
   "id": "3c31b627",
   "metadata": {},
   "outputs": [],
   "source": [
    "def show_dominance_area_plot(dom_scores, name=None):\n",
    "    ## build df:\n",
    "    df = []\n",
    "    for src_name, values in dom_scores.items():\n",
    "        for layer, val in enumerate(values):\n",
    "            df.append({\n",
    "                'src_name': src_name,\n",
    "                'layer': layer,\n",
    "                'val': val.item()\n",
    "            })\n",
    "    df = pd.DataFrame(df)\n",
    "\n",
    "    colors = {\n",
    "        'bos': '#A9A9A9',       # Dark grey\n",
    "        'chat_pre': '#D3D3D3',  # Light grey\n",
    "        'instr': '#4B77BE',     # Dark green\n",
    "        'adv': \"#E8362D\",           # Dark red\n",
    "        'chat[:-1]': '#FFA500',      # Orange\n",
    "        'chat[-1]': '#FFB84D'       # Light orange-yellow (subtler)\n",
    "    }\n",
    "\n",
    "    px.area(\n",
    "        df,\n",
    "        x='layer',\n",
    "        y='val',\n",
    "        color='src_name',\n",
    "        labels={'val': 'Dominance Score', 'layer': 'Layer', 'src_name': 'Source Subseq.'},\n",
    "        color_discrete_map=colors,\n",
    "        width=500, height=350,\n",
    "        template='plotly_white',\n",
    "        title=f\"Dominance Scores to 'chat[-1]'\" + (f' ({name})' if name else ''),\n",
    "    ).show()"
   ]
  },
  {
   "cell_type": "code",
   "execution_count": 5,
   "id": "679f78d2",
   "metadata": {},
   "outputs": [
    {
     "name": "stdout",
     "output_type": "stream",
     "text": [
      "DEBUG: Affirmative response string:  20\n"
     ]
    },
    {
     "name": "stderr",
     "output_type": "stream",
     "text": [
      "huggingface/tokenizers: The current process just got forked, after parallelism has already been used. Disabling parallelism to avoid deadlocks...\n",
      "To disable this warning, you can either:\n",
      "\t- Avoid using `tokenizers` before the fork if possible\n",
      "\t- Explicitly set the environment variable TOKENIZERS_PARALLELISM=(true | false)\n"
     ]
    },
    {
     "data": {
      "image/svg+xml": [
       "<svg class=\"main-svg\" xmlns=\"http://www.w3.org/2000/svg\" xmlns:xlink=\"http://www.w3.org/1999/xlink\" width=\"500\" height=\"350\" style=\"\" viewBox=\"0 0 500 350\"><rect x=\"0\" y=\"0\" width=\"500\" height=\"350\" style=\"fill: rgb(255, 255, 255); fill-opacity: 1;\"/><defs id=\"defs-cb9d39\"><g class=\"clips\"><clipPath id=\"clipcb9d39xyplot\" class=\"plotclip\"><rect width=\"298\" height=\"170\"/></clipPath><clipPath class=\"axesclip\" id=\"clipcb9d39x\"><rect x=\"80\" y=\"0\" width=\"298\" height=\"350\"/></clipPath><clipPath class=\"axesclip\" id=\"clipcb9d39y\"><rect x=\"0\" y=\"100\" width=\"500\" height=\"170\"/></clipPath><clipPath class=\"axesclip\" id=\"clipcb9d39xy\"><rect x=\"80\" y=\"100\" width=\"298\" height=\"170\"/></clipPath></g><g class=\"gradients\"/><g class=\"patterns\"/></defs><g class=\"bglayer\"/><g class=\"layer-below\"><g class=\"imagelayer\"/><g class=\"shapelayer\"/></g><g class=\"cartesianlayer\"><g class=\"subplot xy\"><g class=\"layer-subplot\"><g class=\"shapelayer\"/><g class=\"imagelayer\"/></g><g class=\"minor-gridlayer\"><g class=\"x\"/><g class=\"y\"/></g><g class=\"gridlayer\"><g class=\"x\"><path class=\"xgrid crisp\" transform=\"translate(199.2,0)\" d=\"M0,100v170\" style=\"stroke: rgb(235, 240, 248); stroke-opacity: 1; stroke-width: 1px;\"/><path class=\"xgrid crisp\" transform=\"translate(318.4,0)\" d=\"M0,100v170\" style=\"stroke: rgb(235, 240, 248); stroke-opacity: 1; stroke-width: 1px;\"/></g><g class=\"y\"><path class=\"ygrid crisp\" transform=\"translate(0,184.54000000000002)\" d=\"M80,0h298\" style=\"stroke: rgb(235, 240, 248); stroke-opacity: 1; stroke-width: 1px;\"/><path class=\"ygrid crisp\" transform=\"translate(0,108.86)\" d=\"M80,0h298\" style=\"stroke: rgb(235, 240, 248); stroke-opacity: 1; stroke-width: 1px;\"/></g></g><g class=\"zerolinelayer\"><path class=\"xzl zl crisp\" transform=\"translate(80,0)\" d=\"M0,100v170\" style=\"stroke: rgb(235, 240, 248); stroke-opacity: 1; stroke-width: 2px;\"/><path class=\"yzl zl crisp\" transform=\"translate(0,260.23)\" d=\"M80,0h298\" style=\"stroke: rgb(235, 240, 248); stroke-opacity: 1; stroke-width: 2px;\"/></g><path class=\"xlines-below\"/><path class=\"ylines-below\"/><g class=\"overlines-below\"/><g class=\"xaxislayer-below\"/><g class=\"yaxislayer-below\"/><g class=\"overaxes-below\"/><g class=\"plot\" transform=\"translate(80,100)\" clip-path=\"url(#clipcb9d39xyplot)\"><g class=\"scatterlayer mlayer\"><g class=\"trace scatter trace09d412\" style=\"stroke-miterlimit: 2;\"><g class=\"fills\"><g><path class=\"js-fill\" d=\"M298,160.23L0,160.23L0,142.87L11.92,132.82L23.84,132.17L35.76,145.72L47.68,151.39L59.6,157.22L71.52,128.97L83.44,148.21L95.36,147.94L107.28,160.3L119.2,147.81L131.12,159.59L143.04,155.97L154.96,155.33L166.88,155.79L178.8,153.11L190.72,158.05L214.56,133.9L226.48,149.92L238.4,110.88L250.32,150.01L262.24,99.07L274.16,154.57L286.08,144.49L298,161.5\" style=\"fill: rgb(169, 169, 169); fill-opacity: 0.5; stroke-width: 0;\"/></g><g><path class=\"js-fill\" d=\"M0,136.06L11.92,120.2L23.84,122.08L35.76,136.64L47.68,141.3L59.6,150.69L71.52,112.73L83.44,141.3L95.36,142.63L107.28,160.01L119.2,143.78L131.12,158.75L143.04,152.27L154.96,155.43L166.88,151.97L178.8,151.07L190.72,157.21L202.64,142.26L214.56,113.64L226.48,143.75L238.4,102.22L250.32,148.52L262.24,91.53L274.16,154.17L286.08,140.33L298,160.24L298,161.5L286.08,144.49L274.16,154.57L262.24,99.07L250.32,150.01L238.4,110.88L226.48,149.92L214.56,133.9L190.72,158.05L178.8,153.11L166.88,155.79L154.96,155.33L143.04,155.97L131.12,159.59L119.2,147.81L107.28,160.3L95.36,147.94L83.44,148.21L71.52,128.97L59.6,157.22L47.68,151.39L35.76,145.72L23.84,132.17L11.92,132.82L0,142.87Z\" style=\"fill: rgb(211, 211, 211); fill-opacity: 0.5; stroke-width: 0;\"/></g></g><g class=\"errorbars\"/><g class=\"lines\"><path class=\"js-line\" d=\"M0,142.87L11.92,132.82L23.84,132.17L35.76,145.72L47.68,151.39L59.6,157.22L71.52,128.97L83.44,148.21L95.36,147.94L107.28,160.3L119.2,147.81L131.12,159.59L143.04,155.97L154.96,155.33L166.88,155.79L178.8,153.11L190.72,158.05L214.56,133.9L226.48,149.92L238.4,110.88L250.32,150.01L262.24,99.07L274.16,154.57L286.08,144.49L298,161.5\" style=\"vector-effect: none; fill: none; stroke: rgb(169, 169, 169); stroke-opacity: 1; stroke-width: 2px; opacity: 1;\"/></g><g class=\"points\"/><g class=\"text\"/></g><g class=\"trace scatter tracec949cb\" style=\"stroke-miterlimit: 2;\"><g class=\"fills\"><g><path class=\"js-fill\" d=\"M0,125.14L11.92,103.41L23.84,107.37L35.76,114.84L47.68,123.61L59.6,113.41L71.52,83.57L83.44,53.89L95.36,43.55L107.28,54.64L119.2,89.25L131.12,73.52L143.04,114.18L154.96,62.87L166.88,107.04L178.8,118.28L190.72,107.65L202.64,108.33L214.56,84.97L226.48,137.06L238.4,94.88L250.32,138.08L262.24,72.77L274.16,151.89L286.08,131.3L298,155.62L298,160.24L286.08,140.33L274.16,154.17L262.24,91.53L250.32,148.52L238.4,102.22L226.48,143.75L214.56,113.64L202.64,142.26L190.72,157.21L178.8,151.07L166.88,151.97L154.96,155.43L143.04,152.27L131.12,158.75L119.2,143.78L107.28,160.01L95.36,142.63L83.44,141.3L71.52,112.73L59.6,150.69L47.68,141.3L35.76,136.64L23.84,122.08L11.92,120.2L0,136.06Z\" style=\"fill: rgb(75, 119, 190); fill-opacity: 0.5; stroke-width: 0;\"/></g></g><g class=\"errorbars\"/><g class=\"lines\"><path class=\"js-line\" d=\"M0,136.06L11.92,120.2L23.84,122.08L35.76,136.64L47.68,141.3L59.6,150.69L71.52,112.73L83.44,141.3L95.36,142.63L107.28,160.01L119.2,143.78L131.12,158.75L143.04,152.27L154.96,155.43L166.88,151.97L178.8,151.07L190.72,157.21L202.64,142.26L214.56,113.64L226.48,143.75L238.4,102.22L250.32,148.52L262.24,91.53L274.16,154.17L286.08,140.33L298,160.24\" style=\"vector-effect: none; fill: none; stroke: rgb(211, 211, 211); stroke-opacity: 1; stroke-width: 2px; opacity: 1;\"/></g><g class=\"points\"/><g class=\"text\"/></g><g class=\"trace scatter trace0dd401\" style=\"stroke-miterlimit: 2;\"><g class=\"fills\"><g><path class=\"js-fill\" d=\"M0,101.52L11.92,97.3L23.84,102.93L47.68,120.64L59.6,104.83L71.52,82.2L83.44,42.12L95.36,32.46L107.28,37.26L119.2,70.96L131.12,61.07L143.04,106.51L154.96,58.62L166.88,102L178.8,110.31L190.72,89.62L202.64,102.96L214.56,67.34L226.48,135.17L238.4,90.95L250.32,135.71L262.24,45.59L274.16,141.94L286.08,124.17L298,151.54L298,155.62L286.08,131.3L274.16,151.89L262.24,72.77L250.32,138.08L238.4,94.88L226.48,137.06L214.56,84.97L202.64,108.33L190.72,107.65L178.8,118.28L166.88,107.04L154.96,62.87L143.04,114.18L131.12,73.52L119.2,89.25L107.28,54.64L95.36,43.55L83.44,53.89L71.52,83.57L59.6,113.41L47.68,123.61L35.76,114.84L23.84,107.37L11.92,103.41L0,125.14Z\" style=\"fill: rgb(232, 54, 45); fill-opacity: 0.5; stroke-width: 0;\"/></g></g><g class=\"errorbars\"/><g class=\"lines\"><path class=\"js-line\" d=\"M0,125.14L11.92,103.41L23.84,107.37L35.76,114.84L47.68,123.61L59.6,113.41L71.52,83.57L83.44,53.89L95.36,43.55L107.28,54.64L119.2,89.25L131.12,73.52L143.04,114.18L154.96,62.87L166.88,107.04L178.8,118.28L190.72,107.65L202.64,108.33L214.56,84.97L226.48,137.06L238.4,94.88L250.32,138.08L262.24,72.77L274.16,151.89L286.08,131.3L298,155.62\" style=\"vector-effect: none; fill: none; stroke: rgb(75, 119, 190); stroke-opacity: 1; stroke-width: 2px; opacity: 1;\"/></g><g class=\"points\"/><g class=\"text\"/></g><g class=\"trace scatter trace28d31d\" style=\"stroke-miterlimit: 2;\"><g class=\"fills\"><g><path class=\"js-fill\" d=\"M0,46.8L11.92,17.94L23.84,44.89L35.76,19.5L47.68,51.21L59.6,64.39L71.52,65.45L83.44,28.77L95.36,10.25L107.28,9.47L119.2,14.75L131.12,8.5L143.04,65.61L154.96,12.52L166.88,27.05L178.8,81.25L190.72,14.75L202.64,51.02L214.56,19.16L226.48,36.23L238.4,23.59L250.32,19.2L262.24,12.5L274.16,78.05L286.08,49.8L298,115.96L298,151.54L286.08,124.17L274.16,141.94L262.24,45.59L250.32,135.71L238.4,90.95L226.48,135.17L214.56,67.34L202.64,102.96L190.72,89.62L178.8,110.31L166.88,102L154.96,58.62L143.04,106.51L131.12,61.07L119.2,70.96L107.28,37.26L95.36,32.46L83.44,42.12L71.52,82.2L59.6,104.83L47.68,120.64L23.84,102.93L11.92,97.3L0,101.52Z\" style=\"fill: rgb(255, 165, 0); fill-opacity: 0.5; stroke-width: 0;\"/></g></g><g class=\"errorbars\"/><g class=\"lines\"><path class=\"js-line\" d=\"M0,101.52L11.92,97.3L23.84,102.93L47.68,120.64L59.6,104.83L71.52,82.2L83.44,42.12L95.36,32.46L107.28,37.26L119.2,70.96L131.12,61.07L143.04,106.51L154.96,58.62L166.88,102L178.8,110.31L190.72,89.62L202.64,102.96L214.56,67.34L226.48,135.17L238.4,90.95L250.32,135.71L262.24,45.59L274.16,141.94L286.08,124.17L298,151.54\" style=\"vector-effect: none; fill: none; stroke: rgb(232, 54, 45); stroke-opacity: 1; stroke-width: 2px; opacity: 1;\"/></g><g class=\"points\"/><g class=\"text\"/></g><g class=\"trace scatter tracedfb8f4\" style=\"stroke-miterlimit: 2;\"><g class=\"fills\"><g><path class=\"js-fill\" d=\"M0,8.86L298,8.86L298,115.96L286.08,49.8L274.16,78.05L262.24,12.5L250.32,19.2L238.4,23.59L226.48,36.23L214.56,19.16L202.64,51.02L190.72,14.75L178.8,81.25L166.88,27.05L154.96,12.52L143.04,65.61L131.12,8.5L119.2,14.75L107.28,9.47L95.36,10.25L83.44,28.77L71.52,65.45L59.6,64.39L47.68,51.21L35.76,19.5L23.84,44.89L11.92,17.94L0,46.8Z\" style=\"fill: rgb(255, 184, 77); fill-opacity: 0.5; stroke-width: 0;\"/></g></g><g class=\"errorbars\"/><g class=\"lines\"><path class=\"js-line\" d=\"M0,46.8L11.92,17.94L23.84,44.89L35.76,19.5L47.68,51.21L59.6,64.39L71.52,65.45L83.44,28.77L95.36,10.25L107.28,9.47L119.2,14.75L131.12,8.5L143.04,65.61L154.96,12.52L166.88,27.05L178.8,81.25L190.72,14.75L202.64,51.02L214.56,19.16L226.48,36.23L238.4,23.59L250.32,19.2L262.24,12.5L274.16,78.05L286.08,49.8L298,115.96\" style=\"vector-effect: none; fill: none; stroke: rgb(255, 165, 0); stroke-opacity: 1; stroke-width: 2px; opacity: 1;\"/></g><g class=\"points\"/><g class=\"text\"/></g><g class=\"trace scatter traceca3e4c\" style=\"stroke-miterlimit: 2;\"><g class=\"fills\"/><g class=\"errorbars\"/><g class=\"lines\"><path class=\"js-line\" d=\"M0,8.86L298,8.86\" style=\"vector-effect: none; fill: none; stroke: rgb(255, 184, 77); stroke-opacity: 1; stroke-width: 2px; opacity: 1;\"/></g><g class=\"points\"/><g class=\"text\"/></g></g></g><g class=\"overplot\"/><path class=\"xlines-above crisp\" d=\"M0,0\" style=\"fill: none;\"/><path class=\"ylines-above crisp\" d=\"M0,0\" style=\"fill: none;\"/><g class=\"overlines-above\"/><g class=\"xaxislayer-above\"><g class=\"xtick\"><text text-anchor=\"middle\" x=\"0\" y=\"283\" transform=\"translate(80,0)\" style=\"font-family: 'Open Sans', verdana, arial, sans-serif; font-size: 12px; fill: rgb(42, 63, 95); fill-opacity: 1; white-space: pre; opacity: 1;\">0</text></g><g class=\"xtick\"><text text-anchor=\"middle\" x=\"0\" y=\"283\" style=\"font-family: 'Open Sans', verdana, arial, sans-serif; font-size: 12px; fill: rgb(42, 63, 95); fill-opacity: 1; white-space: pre; opacity: 1;\" transform=\"translate(199.2,0)\">10</text></g><g class=\"xtick\"><text text-anchor=\"middle\" x=\"0\" y=\"283\" style=\"font-family: 'Open Sans', verdana, arial, sans-serif; font-size: 12px; fill: rgb(42, 63, 95); fill-opacity: 1; white-space: pre; opacity: 1;\" transform=\"translate(318.4,0)\">20</text></g></g><g class=\"yaxislayer-above\"><g class=\"ytick\"><text text-anchor=\"end\" x=\"79\" y=\"4.199999999999999\" transform=\"translate(0,260.23)\" style=\"font-family: 'Open Sans', verdana, arial, sans-serif; font-size: 12px; fill: rgb(42, 63, 95); fill-opacity: 1; white-space: pre; opacity: 1;\">0</text></g><g class=\"ytick\"><text text-anchor=\"end\" x=\"79\" y=\"4.199999999999999\" style=\"font-family: 'Open Sans', verdana, arial, sans-serif; font-size: 12px; fill: rgb(42, 63, 95); fill-opacity: 1; white-space: pre; opacity: 1;\" transform=\"translate(0,184.54000000000002)\">0.5</text></g><g class=\"ytick\"><text text-anchor=\"end\" x=\"79\" y=\"4.199999999999999\" style=\"font-family: 'Open Sans', verdana, arial, sans-serif; font-size: 12px; fill: rgb(42, 63, 95); fill-opacity: 1; white-space: pre; opacity: 1;\" transform=\"translate(0,108.86)\">1</text></g></g><g class=\"overaxes-above\"/></g></g><g class=\"polarlayer\"/><g class=\"smithlayer\"/><g class=\"ternarylayer\"/><g class=\"geolayer\"/><g class=\"funnelarealayer\"/><g class=\"pielayer\"/><g class=\"iciclelayer\"/><g class=\"treemaplayer\"/><g class=\"sunburstlayer\"/><g class=\"glimages\"/><defs id=\"topdefs-cb9d39\"><g class=\"clips\"/><clipPath id=\"legendcb9d39\"><rect width=\"104\" height=\"143\" x=\"0\" y=\"0\"/></clipPath></defs><g class=\"layer-above\"><g class=\"imagelayer\"/><g class=\"shapelayer\"/></g><g class=\"infolayer\"><g class=\"legend\" pointer-events=\"all\" transform=\"translate(383.96,100)\"><rect class=\"bg\" shape-rendering=\"crispEdges\" style=\"stroke: rgb(68, 68, 68); stroke-opacity: 1; fill: rgb(255, 255, 255); fill-opacity: 1; stroke-width: 0px;\" width=\"104\" height=\"143\" x=\"0\" y=\"0\"/><g class=\"scrollbox\" transform=\"\" clip-path=\"url(#legendcb9d39)\"><text class=\"legendtitletext\" text-anchor=\"start\" x=\"2\" y=\"18.2\" style=\"font-family: 'Open Sans', verdana, arial, sans-serif; font-size: 14px; fill: rgb(42, 63, 95); fill-opacity: 1; white-space: pre;\">Source Subseq.</text><g class=\"groups\" transform=\"\"><g class=\"traces\" transform=\"translate(0,32.7)\" style=\"opacity: 1;\"><text class=\"legendtext\" text-anchor=\"start\" x=\"40\" y=\"4.680000000000001\" style=\"font-family: 'Open Sans', verdana, arial, sans-serif; font-size: 12px; fill: rgb(42, 63, 95); fill-opacity: 1; white-space: pre;\">bos</text><g class=\"layers\"><g class=\"legendfill\"><path class=\"js-fill\" d=\"M5,-2h30v6h-30z\" style=\"stroke-width: 0; fill: rgb(169, 169, 169); fill-opacity: 0.5;\"/></g><g class=\"legendlines\"><path class=\"js-line\" d=\"M5,-2h30\" style=\"fill: none; stroke: rgb(169, 169, 169); stroke-opacity: 1; stroke-width: 2px;\"/></g><g class=\"legendsymbols\"><g class=\"legendpoints\"/></g></g><rect class=\"legendtoggle\" x=\"0\" y=\"-9.5\" width=\"87.03125\" height=\"19\" style=\"fill: rgb(0, 0, 0); fill-opacity: 0;\"/></g></g><g class=\"groups\" transform=\"\"><g class=\"traces\" transform=\"translate(0,51.7)\" style=\"opacity: 1;\"><text class=\"legendtext\" text-anchor=\"start\" x=\"40\" y=\"4.680000000000001\" style=\"font-family: 'Open Sans', verdana, arial, sans-serif; font-size: 12px; fill: rgb(42, 63, 95); fill-opacity: 1; white-space: pre;\">chat_pre</text><g class=\"layers\"><g class=\"legendfill\"><path class=\"js-fill\" d=\"M5,-2h30v6h-30z\" style=\"stroke-width: 0; fill: rgb(211, 211, 211); fill-opacity: 0.5;\"/></g><g class=\"legendlines\"><path class=\"js-line\" d=\"M5,-2h30\" style=\"fill: none; stroke: rgb(211, 211, 211); stroke-opacity: 1; stroke-width: 2px;\"/></g><g class=\"legendsymbols\"><g class=\"legendpoints\"/></g></g><rect class=\"legendtoggle\" x=\"0\" y=\"-9.5\" width=\"87.03125\" height=\"19\" style=\"fill: rgb(0, 0, 0); fill-opacity: 0;\"/></g></g><g class=\"groups\" transform=\"\"><g class=\"traces\" transform=\"translate(0,70.7)\" style=\"opacity: 1;\"><text class=\"legendtext\" text-anchor=\"start\" x=\"40\" y=\"4.680000000000001\" style=\"font-family: 'Open Sans', verdana, arial, sans-serif; font-size: 12px; fill: rgb(42, 63, 95); fill-opacity: 1; white-space: pre;\">instr</text><g class=\"layers\"><g class=\"legendfill\"><path class=\"js-fill\" d=\"M5,-2h30v6h-30z\" style=\"stroke-width: 0; fill: rgb(75, 119, 190); fill-opacity: 0.5;\"/></g><g class=\"legendlines\"><path class=\"js-line\" d=\"M5,-2h30\" style=\"fill: none; stroke: rgb(75, 119, 190); stroke-opacity: 1; stroke-width: 2px;\"/></g><g class=\"legendsymbols\"><g class=\"legendpoints\"/></g></g><rect class=\"legendtoggle\" x=\"0\" y=\"-9.5\" width=\"87.03125\" height=\"19\" style=\"fill: rgb(0, 0, 0); fill-opacity: 0;\"/></g></g><g class=\"groups\" transform=\"\"><g class=\"traces\" transform=\"translate(0,89.7)\" style=\"opacity: 1;\"><text class=\"legendtext\" text-anchor=\"start\" x=\"40\" y=\"4.680000000000001\" style=\"font-family: 'Open Sans', verdana, arial, sans-serif; font-size: 12px; fill: rgb(42, 63, 95); fill-opacity: 1; white-space: pre;\">adv</text><g class=\"layers\"><g class=\"legendfill\"><path class=\"js-fill\" d=\"M5,-2h30v6h-30z\" style=\"stroke-width: 0; fill: rgb(232, 54, 45); fill-opacity: 0.5;\"/></g><g class=\"legendlines\"><path class=\"js-line\" d=\"M5,-2h30\" style=\"fill: none; stroke: rgb(232, 54, 45); stroke-opacity: 1; stroke-width: 2px;\"/></g><g class=\"legendsymbols\"><g class=\"legendpoints\"/></g></g><rect class=\"legendtoggle\" x=\"0\" y=\"-9.5\" width=\"87.03125\" height=\"19\" style=\"fill: rgb(0, 0, 0); fill-opacity: 0;\"/></g></g><g class=\"groups\" transform=\"\"><g class=\"traces\" transform=\"translate(0,108.7)\" style=\"opacity: 1;\"><text class=\"legendtext\" text-anchor=\"start\" x=\"40\" y=\"4.680000000000001\" style=\"font-family: 'Open Sans', verdana, arial, sans-serif; font-size: 12px; fill: rgb(42, 63, 95); fill-opacity: 1; white-space: pre;\">chat[:-1]</text><g class=\"layers\"><g class=\"legendfill\"><path class=\"js-fill\" d=\"M5,-2h30v6h-30z\" style=\"stroke-width: 0; fill: rgb(255, 165, 0); fill-opacity: 0.5;\"/></g><g class=\"legendlines\"><path class=\"js-line\" d=\"M5,-2h30\" style=\"fill: none; stroke: rgb(255, 165, 0); stroke-opacity: 1; stroke-width: 2px;\"/></g><g class=\"legendsymbols\"><g class=\"legendpoints\"/></g></g><rect class=\"legendtoggle\" x=\"0\" y=\"-9.5\" width=\"87.03125\" height=\"19\" style=\"fill: rgb(0, 0, 0); fill-opacity: 0;\"/></g></g><g class=\"groups\" transform=\"\"><g class=\"traces\" transform=\"translate(0,127.7)\" style=\"opacity: 1;\"><text class=\"legendtext\" text-anchor=\"start\" x=\"40\" y=\"4.680000000000001\" style=\"font-family: 'Open Sans', verdana, arial, sans-serif; font-size: 12px; fill: rgb(42, 63, 95); fill-opacity: 1; white-space: pre;\">chat[-1]</text><g class=\"layers\"><g class=\"legendfill\"><path class=\"js-fill\" d=\"M5,-2h30v6h-30z\" style=\"stroke-width: 0; fill: rgb(255, 184, 77); fill-opacity: 0.5;\"/></g><g class=\"legendlines\"><path class=\"js-line\" d=\"M5,-2h30\" style=\"fill: none; stroke: rgb(255, 184, 77); stroke-opacity: 1; stroke-width: 2px;\"/></g><g class=\"legendsymbols\"><g class=\"legendpoints\"/></g></g><rect class=\"legendtoggle\" x=\"0\" y=\"-9.5\" width=\"87.03125\" height=\"19\" style=\"fill: rgb(0, 0, 0); fill-opacity: 0;\"/></g></g></g><rect class=\"scrollbar\" rx=\"20\" ry=\"3\" width=\"0\" height=\"0\" style=\"fill: rgb(128, 139, 164); fill-opacity: 1;\" x=\"0\" y=\"0\"/></g><g class=\"g-gtitle\"><text class=\"gtitle\" x=\"25\" y=\"50\" text-anchor=\"start\" dy=\"0em\" style=\"font-family: 'Open Sans', verdana, arial, sans-serif; font-size: 17px; fill: rgb(42, 63, 95); opacity: 1; font-weight: normal; white-space: pre;\">Dominance Scores to 'chat[-1]' (random suffix)</text></g><g class=\"g-xtitle\"><text class=\"xtitle\" x=\"229\" y=\"310.3\" text-anchor=\"middle\" style=\"font-family: 'Open Sans', verdana, arial, sans-serif; font-size: 14px; fill: rgb(42, 63, 95); opacity: 1; font-weight: normal; white-space: pre;\">Layer</text></g><g class=\"g-ytitle\"><text class=\"ytitle\" transform=\"rotate(-90,38.0125,185)\" x=\"38.0125\" y=\"185\" text-anchor=\"middle\" style=\"font-family: 'Open Sans', verdana, arial, sans-serif; font-size: 14px; fill: rgb(42, 63, 95); opacity: 1; font-weight: normal; white-space: pre;\">Dominance Score</text></g></g></svg>"
      ]
     },
     "metadata": {},
     "output_type": "display_data"
    },
    {
     "name": "stdout",
     "output_type": "stream",
     "text": [
      "DEBUG: Affirmative response string:  20\n"
     ]
    },
    {
     "data": {
      "image/svg+xml": [
       "<svg class=\"main-svg\" xmlns=\"http://www.w3.org/2000/svg\" xmlns:xlink=\"http://www.w3.org/1999/xlink\" width=\"500\" height=\"350\" style=\"\" viewBox=\"0 0 500 350\"><rect x=\"0\" y=\"0\" width=\"500\" height=\"350\" style=\"fill: rgb(255, 255, 255); fill-opacity: 1;\"/><defs id=\"defs-b4920f\"><g class=\"clips\"><clipPath id=\"clipb4920fxyplot\" class=\"plotclip\"><rect width=\"298\" height=\"170\"/></clipPath><clipPath class=\"axesclip\" id=\"clipb4920fx\"><rect x=\"80\" y=\"0\" width=\"298\" height=\"350\"/></clipPath><clipPath class=\"axesclip\" id=\"clipb4920fy\"><rect x=\"0\" y=\"100\" width=\"500\" height=\"170\"/></clipPath><clipPath class=\"axesclip\" id=\"clipb4920fxy\"><rect x=\"80\" y=\"100\" width=\"298\" height=\"170\"/></clipPath></g><g class=\"gradients\"/><g class=\"patterns\"/></defs><g class=\"bglayer\"/><g class=\"layer-below\"><g class=\"imagelayer\"/><g class=\"shapelayer\"/></g><g class=\"cartesianlayer\"><g class=\"subplot xy\"><g class=\"layer-subplot\"><g class=\"shapelayer\"/><g class=\"imagelayer\"/></g><g class=\"minor-gridlayer\"><g class=\"x\"/><g class=\"y\"/></g><g class=\"gridlayer\"><g class=\"x\"><path class=\"xgrid crisp\" transform=\"translate(199.2,0)\" d=\"M0,100v170\" style=\"stroke: rgb(235, 240, 248); stroke-opacity: 1; stroke-width: 1px;\"/><path class=\"xgrid crisp\" transform=\"translate(318.4,0)\" d=\"M0,100v170\" style=\"stroke: rgb(235, 240, 248); stroke-opacity: 1; stroke-width: 1px;\"/></g><g class=\"y\"><path class=\"ygrid crisp\" transform=\"translate(0,186.25)\" d=\"M80,0h298\" style=\"stroke: rgb(235, 240, 248); stroke-opacity: 1; stroke-width: 1px;\"/><path class=\"ygrid crisp\" transform=\"translate(0,116.55)\" d=\"M80,0h298\" style=\"stroke: rgb(235, 240, 248); stroke-opacity: 1; stroke-width: 1px;\"/></g></g><g class=\"zerolinelayer\"><path class=\"xzl zl crisp\" transform=\"translate(80,0)\" d=\"M0,100v170\" style=\"stroke: rgb(235, 240, 248); stroke-opacity: 1; stroke-width: 2px;\"/><path class=\"yzl zl crisp\" transform=\"translate(0,255.96)\" d=\"M80,0h298\" style=\"stroke: rgb(235, 240, 248); stroke-opacity: 1; stroke-width: 2px;\"/></g><path class=\"xlines-below\"/><path class=\"ylines-below\"/><g class=\"overlines-below\"/><g class=\"xaxislayer-below\"/><g class=\"yaxislayer-below\"/><g class=\"overaxes-below\"/><g class=\"plot\" transform=\"translate(80,100)\" clip-path=\"url(#clipb4920fxyplot)\"><g class=\"scatterlayer mlayer\"><g class=\"trace scatter trace6f7993\" style=\"stroke-miterlimit: 2;\"><g class=\"fills\"><g><path class=\"js-fill\" d=\"M298,155.96L0,155.96L0,140.5L11.92,131.47L23.84,132.31L35.76,144.09L47.68,150.25L59.6,152.66L71.52,124.9L83.44,144.51L95.36,152.83L107.28,159.37L119.2,154.75L131.12,156.39L143.04,154.32L154.96,150.64L166.88,152.88L178.8,153.04L190.72,155.32L202.64,147.77L214.56,150.93L226.48,149.39L238.4,145.15L250.32,148.75L262.24,138.54L274.16,149.81L286.08,151.5L298,157.22\" style=\"fill: rgb(169, 169, 169); fill-opacity: 0.5; stroke-width: 0;\"/></g><g><path class=\"js-fill\" d=\"M0,134L11.92,120.41L23.84,124.23L35.76,135.73L47.68,144.03L59.6,149.11L71.52,109.58L83.44,139.4L95.36,152.34L107.28,161.5L119.2,153.9L131.12,156.25L143.04,153.37L154.96,151.88L166.88,151.34L178.8,152.1L190.72,155.41L202.64,145.81L214.56,150.99L226.48,145.32L238.4,142.36L250.32,147.72L262.24,139.25L274.16,148.19L286.08,150.16L298,156.09L298,157.22L286.08,151.5L274.16,149.81L262.24,138.54L250.32,148.75L238.4,145.15L226.48,149.39L214.56,150.93L202.64,147.77L190.72,155.32L178.8,153.04L166.88,152.88L154.96,150.64L143.04,154.32L131.12,156.39L119.2,154.75L107.28,159.37L95.36,152.83L83.44,144.51L71.52,124.9L59.6,152.66L47.68,150.25L35.76,144.09L23.84,132.31L11.92,131.47L0,140.5Z\" style=\"fill: rgb(211, 211, 211); fill-opacity: 0.5; stroke-width: 0;\"/></g></g><g class=\"errorbars\"/><g class=\"lines\"><path class=\"js-line\" d=\"M0,140.5L11.92,131.47L23.84,132.31L35.76,144.09L47.68,150.25L59.6,152.66L71.52,124.9L83.44,144.51L95.36,152.83L107.28,159.37L119.2,154.75L131.12,156.39L143.04,154.32L154.96,150.64L166.88,152.88L178.8,153.04L190.72,155.32L202.64,147.77L214.56,150.93L226.48,149.39L238.4,145.15L250.32,148.75L262.24,138.54L274.16,149.81L286.08,151.5L298,157.22\" style=\"vector-effect: none; fill: none; stroke: rgb(169, 169, 169); stroke-opacity: 1; stroke-width: 2px; opacity: 1;\"/></g><g class=\"points\"/><g class=\"text\"/></g><g class=\"trace scatter traceb8eda2\" style=\"stroke-miterlimit: 2;\"><g class=\"fills\"><g><path class=\"js-fill\" d=\"M0,120.53L11.92,109.71L23.84,115.95L35.76,122.78L47.68,135.99L59.6,137.19L71.52,88.06L83.44,91.22L95.36,90.3L107.28,104.42L119.2,126.48L131.12,115.46L143.04,145.15L154.96,133.03L166.88,144.36L178.8,148.21L190.72,138.29L202.64,142.13L214.56,148.85L238.4,139.58L250.32,147.32L262.24,135.96L274.16,147.22L286.08,149.08L298,154.97L298,156.09L286.08,150.16L274.16,148.19L262.24,139.25L250.32,147.72L238.4,142.36L226.48,145.32L214.56,150.99L202.64,145.81L190.72,155.41L178.8,152.1L166.88,151.34L154.96,151.88L143.04,153.37L131.12,156.25L119.2,153.9L107.28,161.5L95.36,152.34L83.44,139.4L71.52,109.58L59.6,149.11L47.68,144.03L35.76,135.73L23.84,124.23L11.92,120.41L0,134Z\" style=\"fill: rgb(75, 119, 190); fill-opacity: 0.5; stroke-width: 0;\"/></g></g><g class=\"errorbars\"/><g class=\"lines\"><path class=\"js-line\" d=\"M0,134L11.92,120.41L23.84,124.23L35.76,135.73L47.68,144.03L59.6,149.11L71.52,109.58L83.44,139.4L95.36,152.34L107.28,161.5L119.2,153.9L131.12,156.25L143.04,153.37L154.96,151.88L166.88,151.34L178.8,152.1L190.72,155.41L202.64,145.81L214.56,150.99L226.48,145.32L238.4,142.36L250.32,147.72L262.24,139.25L274.16,148.19L286.08,150.16L298,156.09\" style=\"vector-effect: none; fill: none; stroke: rgb(211, 211, 211); stroke-opacity: 1; stroke-width: 2px; opacity: 1;\"/></g><g class=\"points\"/><g class=\"text\"/></g><g class=\"trace scatter trace948fdb\" style=\"stroke-miterlimit: 2;\"><g class=\"fills\"><g><path class=\"js-fill\" d=\"M0,101.14L11.92,89.73L23.84,99.04L35.76,102.61L47.68,123.69L59.6,86.28L71.52,72.55L83.44,44.29L95.36,40.96L107.28,38.95L119.2,59.61L131.12,38.55L143.04,62.99L154.96,52.39L166.88,68.47L178.8,114.54L190.72,19.76L202.64,48.71L214.56,25.37L226.48,60.65L238.4,36.47L250.32,90.58L262.24,32.73L274.16,125.16L286.08,73.79L298,149.97L298,154.97L286.08,149.08L274.16,147.22L262.24,135.96L250.32,147.32L238.4,139.58L214.56,148.85L202.64,142.13L190.72,138.29L178.8,148.21L166.88,144.36L154.96,133.03L143.04,145.15L131.12,115.46L119.2,126.48L107.28,104.42L95.36,90.3L83.44,91.22L71.52,88.06L59.6,137.19L47.68,135.99L35.76,122.78L23.84,115.95L11.92,109.71L0,120.53Z\" style=\"fill: rgb(232, 54, 45); fill-opacity: 0.5; stroke-width: 0;\"/></g></g><g class=\"errorbars\"/><g class=\"lines\"><path class=\"js-line\" d=\"M0,120.53L11.92,109.71L23.84,115.95L35.76,122.78L47.68,135.99L59.6,137.19L71.52,88.06L83.44,91.22L95.36,90.3L107.28,104.42L119.2,126.48L131.12,115.46L143.04,145.15L154.96,133.03L166.88,144.36L178.8,148.21L190.72,138.29L202.64,142.13L214.56,148.85L238.4,139.58L250.32,147.32L262.24,135.96L274.16,147.22L286.08,149.08L298,154.97\" style=\"vector-effect: none; fill: none; stroke: rgb(75, 119, 190); stroke-opacity: 1; stroke-width: 2px; opacity: 1;\"/></g><g class=\"points\"/><g class=\"text\"/></g><g class=\"trace scatter trace5de7c6\" style=\"stroke-miterlimit: 2;\"><g class=\"fills\"><g><path class=\"js-fill\" d=\"M0,51.83L11.92,26.2L23.84,48.17L35.76,27.5L47.68,53.9L59.6,56.46L71.52,57.36L83.44,31.69L95.36,18.68L107.28,16.51L119.2,19.91L131.12,15.19L143.04,40.21L154.96,19.74L166.88,23.89L178.8,46.67L190.72,17.87L202.64,20.96L214.56,19.09L238.4,23.76L250.32,23.13L262.24,17.57L274.16,8.5L286.08,33.28L298,123.74L298,149.97L286.08,73.79L274.16,125.16L262.24,32.73L250.32,90.58L238.4,36.47L226.48,60.65L214.56,25.37L202.64,48.71L190.72,19.76L178.8,114.54L166.88,68.47L154.96,52.39L143.04,62.99L131.12,38.55L119.2,59.61L107.28,38.95L95.36,40.96L83.44,44.29L71.52,72.55L59.6,86.28L47.68,123.69L35.76,102.61L23.84,99.04L11.92,89.73L0,101.14Z\" style=\"fill: rgb(255, 165, 0); fill-opacity: 0.5; stroke-width: 0;\"/></g></g><g class=\"errorbars\"/><g class=\"lines\"><path class=\"js-line\" d=\"M0,101.14L11.92,89.73L23.84,99.04L35.76,102.61L47.68,123.69L59.6,86.28L71.52,72.55L83.44,44.29L95.36,40.96L107.28,38.95L119.2,59.61L131.12,38.55L143.04,62.99L154.96,52.39L166.88,68.47L178.8,114.54L190.72,19.76L202.64,48.71L214.56,25.37L226.48,60.65L238.4,36.47L250.32,90.58L262.24,32.73L274.16,125.16L286.08,73.79L298,149.97\" style=\"vector-effect: none; fill: none; stroke: rgb(232, 54, 45); stroke-opacity: 1; stroke-width: 2px; opacity: 1;\"/></g><g class=\"points\"/><g class=\"text\"/></g><g class=\"trace scatter trace38d2aa\" style=\"stroke-miterlimit: 2;\"><g class=\"fills\"><g><path class=\"js-fill\" d=\"M0,16.55L298,16.55L298,123.74L286.08,33.28L274.16,8.5L262.24,17.57L250.32,23.13L238.4,23.76L214.56,19.09L202.64,20.96L190.72,17.87L178.8,46.67L166.88,23.89L154.96,19.74L143.04,40.21L131.12,15.19L119.2,19.91L107.28,16.51L95.36,18.68L83.44,31.69L71.52,57.36L59.6,56.46L47.68,53.9L35.76,27.5L23.84,48.17L11.92,26.2L0,51.83Z\" style=\"fill: rgb(255, 184, 77); fill-opacity: 0.5; stroke-width: 0;\"/></g></g><g class=\"errorbars\"/><g class=\"lines\"><path class=\"js-line\" d=\"M0,51.83L11.92,26.2L23.84,48.17L35.76,27.5L47.68,53.9L59.6,56.46L71.52,57.36L83.44,31.69L95.36,18.68L107.28,16.51L119.2,19.91L131.12,15.19L143.04,40.21L154.96,19.74L166.88,23.89L178.8,46.67L190.72,17.87L202.64,20.96L214.56,19.09L238.4,23.76L250.32,23.13L262.24,17.57L274.16,8.5L286.08,33.28L298,123.74\" style=\"vector-effect: none; fill: none; stroke: rgb(255, 165, 0); stroke-opacity: 1; stroke-width: 2px; opacity: 1;\"/></g><g class=\"points\"/><g class=\"text\"/></g><g class=\"trace scatter traceaea5a9\" style=\"stroke-miterlimit: 2;\"><g class=\"fills\"/><g class=\"errorbars\"/><g class=\"lines\"><path class=\"js-line\" d=\"M0,16.55L298,16.55\" style=\"vector-effect: none; fill: none; stroke: rgb(255, 184, 77); stroke-opacity: 1; stroke-width: 2px; opacity: 1;\"/></g><g class=\"points\"/><g class=\"text\"/></g></g></g><g class=\"overplot\"/><path class=\"xlines-above crisp\" d=\"M0,0\" style=\"fill: none;\"/><path class=\"ylines-above crisp\" d=\"M0,0\" style=\"fill: none;\"/><g class=\"overlines-above\"/><g class=\"xaxislayer-above\"><g class=\"xtick\"><text text-anchor=\"middle\" x=\"0\" y=\"283\" transform=\"translate(80,0)\" style=\"font-family: 'Open Sans', verdana, arial, sans-serif; font-size: 12px; fill: rgb(42, 63, 95); fill-opacity: 1; white-space: pre; opacity: 1;\">0</text></g><g class=\"xtick\"><text text-anchor=\"middle\" x=\"0\" y=\"283\" style=\"font-family: 'Open Sans', verdana, arial, sans-serif; font-size: 12px; fill: rgb(42, 63, 95); fill-opacity: 1; white-space: pre; opacity: 1;\" transform=\"translate(199.2,0)\">10</text></g><g class=\"xtick\"><text text-anchor=\"middle\" x=\"0\" y=\"283\" style=\"font-family: 'Open Sans', verdana, arial, sans-serif; font-size: 12px; fill: rgb(42, 63, 95); fill-opacity: 1; white-space: pre; opacity: 1;\" transform=\"translate(318.4,0)\">20</text></g></g><g class=\"yaxislayer-above\"><g class=\"ytick\"><text text-anchor=\"end\" x=\"79\" y=\"4.199999999999999\" transform=\"translate(0,255.96)\" style=\"font-family: 'Open Sans', verdana, arial, sans-serif; font-size: 12px; fill: rgb(42, 63, 95); fill-opacity: 1; white-space: pre; opacity: 1;\">0</text></g><g class=\"ytick\"><text text-anchor=\"end\" x=\"79\" y=\"4.199999999999999\" style=\"font-family: 'Open Sans', verdana, arial, sans-serif; font-size: 12px; fill: rgb(42, 63, 95); fill-opacity: 1; white-space: pre; opacity: 1;\" transform=\"translate(0,186.25)\">0.5</text></g><g class=\"ytick\"><text text-anchor=\"end\" x=\"79\" y=\"4.199999999999999\" style=\"font-family: 'Open Sans', verdana, arial, sans-serif; font-size: 12px; fill: rgb(42, 63, 95); fill-opacity: 1; white-space: pre; opacity: 1;\" transform=\"translate(0,116.55)\">1</text></g></g><g class=\"overaxes-above\"/></g></g><g class=\"polarlayer\"/><g class=\"smithlayer\"/><g class=\"ternarylayer\"/><g class=\"geolayer\"/><g class=\"funnelarealayer\"/><g class=\"pielayer\"/><g class=\"iciclelayer\"/><g class=\"treemaplayer\"/><g class=\"sunburstlayer\"/><g class=\"glimages\"/><defs id=\"topdefs-b4920f\"><g class=\"clips\"/><clipPath id=\"legendb4920f\"><rect width=\"104\" height=\"143\" x=\"0\" y=\"0\"/></clipPath></defs><g class=\"layer-above\"><g class=\"imagelayer\"/><g class=\"shapelayer\"/></g><g class=\"infolayer\"><g class=\"legend\" pointer-events=\"all\" transform=\"translate(383.96,100)\"><rect class=\"bg\" shape-rendering=\"crispEdges\" width=\"104\" height=\"143\" x=\"0\" y=\"0\" style=\"stroke: rgb(68, 68, 68); stroke-opacity: 1; fill: rgb(255, 255, 255); fill-opacity: 1; stroke-width: 0px;\"/><g class=\"scrollbox\" transform=\"\" clip-path=\"url(#legendb4920f)\"><text class=\"legendtitletext\" text-anchor=\"start\" x=\"2\" y=\"18.2\" style=\"font-family: 'Open Sans', verdana, arial, sans-serif; font-size: 14px; fill: rgb(42, 63, 95); fill-opacity: 1; white-space: pre;\">Source Subseq.</text><g class=\"groups\" transform=\"\"><g class=\"traces\" transform=\"translate(0,32.7)\" style=\"opacity: 1;\"><text class=\"legendtext\" text-anchor=\"start\" x=\"40\" y=\"4.680000000000001\" style=\"font-family: 'Open Sans', verdana, arial, sans-serif; font-size: 12px; fill: rgb(42, 63, 95); fill-opacity: 1; white-space: pre;\">bos</text><g class=\"layers\"><g class=\"legendfill\"><path class=\"js-fill\" d=\"M5,-2h30v6h-30z\" style=\"stroke-width: 0; fill: rgb(169, 169, 169); fill-opacity: 0.5;\"/></g><g class=\"legendlines\"><path class=\"js-line\" d=\"M5,-2h30\" style=\"fill: none; stroke: rgb(169, 169, 169); stroke-opacity: 1; stroke-width: 2px;\"/></g><g class=\"legendsymbols\"><g class=\"legendpoints\"/></g></g><rect class=\"legendtoggle\" x=\"0\" y=\"-9.5\" width=\"87.03125\" height=\"19\" style=\"fill: rgb(0, 0, 0); fill-opacity: 0;\"/></g></g><g class=\"groups\" transform=\"\"><g class=\"traces\" transform=\"translate(0,51.7)\" style=\"opacity: 1;\"><text class=\"legendtext\" text-anchor=\"start\" x=\"40\" y=\"4.680000000000001\" style=\"font-family: 'Open Sans', verdana, arial, sans-serif; font-size: 12px; fill: rgb(42, 63, 95); fill-opacity: 1; white-space: pre;\">chat_pre</text><g class=\"layers\"><g class=\"legendfill\"><path class=\"js-fill\" d=\"M5,-2h30v6h-30z\" style=\"stroke-width: 0; fill: rgb(211, 211, 211); fill-opacity: 0.5;\"/></g><g class=\"legendlines\"><path class=\"js-line\" d=\"M5,-2h30\" style=\"fill: none; stroke: rgb(211, 211, 211); stroke-opacity: 1; stroke-width: 2px;\"/></g><g class=\"legendsymbols\"><g class=\"legendpoints\"/></g></g><rect class=\"legendtoggle\" x=\"0\" y=\"-9.5\" width=\"87.03125\" height=\"19\" style=\"fill: rgb(0, 0, 0); fill-opacity: 0;\"/></g></g><g class=\"groups\" transform=\"\"><g class=\"traces\" transform=\"translate(0,70.7)\" style=\"opacity: 1;\"><text class=\"legendtext\" text-anchor=\"start\" x=\"40\" y=\"4.680000000000001\" style=\"font-family: 'Open Sans', verdana, arial, sans-serif; font-size: 12px; fill: rgb(42, 63, 95); fill-opacity: 1; white-space: pre;\">instr</text><g class=\"layers\"><g class=\"legendfill\"><path class=\"js-fill\" d=\"M5,-2h30v6h-30z\" style=\"stroke-width: 0; fill: rgb(75, 119, 190); fill-opacity: 0.5;\"/></g><g class=\"legendlines\"><path class=\"js-line\" d=\"M5,-2h30\" style=\"fill: none; stroke: rgb(75, 119, 190); stroke-opacity: 1; stroke-width: 2px;\"/></g><g class=\"legendsymbols\"><g class=\"legendpoints\"/></g></g><rect class=\"legendtoggle\" x=\"0\" y=\"-9.5\" width=\"87.03125\" height=\"19\" style=\"fill: rgb(0, 0, 0); fill-opacity: 0;\"/></g></g><g class=\"groups\" transform=\"\"><g class=\"traces\" transform=\"translate(0,89.7)\" style=\"opacity: 1;\"><text class=\"legendtext\" text-anchor=\"start\" x=\"40\" y=\"4.680000000000001\" style=\"font-family: 'Open Sans', verdana, arial, sans-serif; font-size: 12px; fill: rgb(42, 63, 95); fill-opacity: 1; white-space: pre;\">adv</text><g class=\"layers\"><g class=\"legendfill\"><path class=\"js-fill\" d=\"M5,-2h30v6h-30z\" style=\"stroke-width: 0; fill: rgb(232, 54, 45); fill-opacity: 0.5;\"/></g><g class=\"legendlines\"><path class=\"js-line\" d=\"M5,-2h30\" style=\"fill: none; stroke: rgb(232, 54, 45); stroke-opacity: 1; stroke-width: 2px;\"/></g><g class=\"legendsymbols\"><g class=\"legendpoints\"/></g></g><rect class=\"legendtoggle\" x=\"0\" y=\"-9.5\" width=\"87.03125\" height=\"19\" style=\"fill: rgb(0, 0, 0); fill-opacity: 0;\"/></g></g><g class=\"groups\" transform=\"\"><g class=\"traces\" transform=\"translate(0,108.7)\" style=\"opacity: 1;\"><text class=\"legendtext\" text-anchor=\"start\" x=\"40\" y=\"4.680000000000001\" style=\"font-family: 'Open Sans', verdana, arial, sans-serif; font-size: 12px; fill: rgb(42, 63, 95); fill-opacity: 1; white-space: pre;\">chat[:-1]</text><g class=\"layers\"><g class=\"legendfill\"><path class=\"js-fill\" d=\"M5,-2h30v6h-30z\" style=\"stroke-width: 0; fill: rgb(255, 165, 0); fill-opacity: 0.5;\"/></g><g class=\"legendlines\"><path class=\"js-line\" d=\"M5,-2h30\" style=\"fill: none; stroke: rgb(255, 165, 0); stroke-opacity: 1; stroke-width: 2px;\"/></g><g class=\"legendsymbols\"><g class=\"legendpoints\"/></g></g><rect class=\"legendtoggle\" x=\"0\" y=\"-9.5\" width=\"87.03125\" height=\"19\" style=\"fill: rgb(0, 0, 0); fill-opacity: 0;\"/></g></g><g class=\"groups\" transform=\"\"><g class=\"traces\" transform=\"translate(0,127.7)\" style=\"opacity: 1;\"><text class=\"legendtext\" text-anchor=\"start\" x=\"40\" y=\"4.680000000000001\" style=\"font-family: 'Open Sans', verdana, arial, sans-serif; font-size: 12px; fill: rgb(42, 63, 95); fill-opacity: 1; white-space: pre;\">chat[-1]</text><g class=\"layers\"><g class=\"legendfill\"><path class=\"js-fill\" d=\"M5,-2h30v6h-30z\" style=\"stroke-width: 0; fill: rgb(255, 184, 77); fill-opacity: 0.5;\"/></g><g class=\"legendlines\"><path class=\"js-line\" d=\"M5,-2h30\" style=\"fill: none; stroke: rgb(255, 184, 77); stroke-opacity: 1; stroke-width: 2px;\"/></g><g class=\"legendsymbols\"><g class=\"legendpoints\"/></g></g><rect class=\"legendtoggle\" x=\"0\" y=\"-9.5\" width=\"87.03125\" height=\"19\" style=\"fill: rgb(0, 0, 0); fill-opacity: 0;\"/></g></g></g><rect class=\"scrollbar\" rx=\"20\" ry=\"3\" width=\"0\" height=\"0\" x=\"0\" y=\"0\" style=\"fill: rgb(128, 139, 164); fill-opacity: 1;\"/></g><g class=\"g-gtitle\"><text class=\"gtitle\" x=\"25\" y=\"50\" text-anchor=\"start\" dy=\"0em\" style=\"font-family: 'Open Sans', verdana, arial, sans-serif; font-size: 17px; fill: rgb(42, 63, 95); opacity: 1; font-weight: normal; white-space: pre;\">Dominance Scores to 'chat[-1]' (GCG suffix)</text></g><g class=\"g-xtitle\"><text class=\"xtitle\" x=\"229\" y=\"310.3\" text-anchor=\"middle\" style=\"font-family: 'Open Sans', verdana, arial, sans-serif; font-size: 14px; fill: rgb(42, 63, 95); opacity: 1; font-weight: normal; white-space: pre;\">Layer</text></g><g class=\"g-ytitle\"><text class=\"ytitle\" transform=\"rotate(-90,38.0125,185)\" x=\"38.0125\" y=\"185\" text-anchor=\"middle\" style=\"font-family: 'Open Sans', verdana, arial, sans-serif; font-size: 14px; fill: rgb(42, 63, 95); opacity: 1; font-weight: normal; white-space: pre;\">Dominance Score</text></g></g></svg>"
      ]
     },
     "metadata": {},
     "output_type": "display_data"
    }
   ],
   "source": [
    "# from src.interp.dominance_tools import get_adv_hijack_score\n",
    "import src.interp.dominance_tools as dominance_tools\n",
    "from importlib import reload\n",
    "reload(dominance_tools)\n",
    "\n",
    "message = data_df[data_df.message_id == 619].iloc[0].message_str\n",
    "suffix_rand = data_df[data_df.suffix_category == 'init'].suffix_str.iloc[0]\n",
    "suffix_gcg = data_df[data_df.suffix_rank == 0].suffix_str.iloc[0]\n",
    "\n",
    "for suffix_name, suffix_str in [('random suffix', suffix_rand), ('GCG suffix', suffix_gcg)]:\n",
    "    dom_scores = dominance_tools.get_dom_scores(\n",
    "        model,\n",
    "        message, suffix_str,\n",
    "        dst_slc_name = 'chat[-1]',\n",
    "        hijacking_metric ='Y@attn',  # 'Y@resid', 'Y@attn', 'X@WVO@attn', 'Y@dcmp_resid', 'Y@dir\n",
    "        hijacking_metric_flavor = 'sum',  # 'sum', 'sum-top0.1'\n",
    "    )\n",
    "\n",
    "    show_dominance_area_plot(dom_scores, name=suffix_name)"
   ]
  },
  {
   "cell_type": "code",
   "execution_count": 6,
   "id": "45a8ed4d",
   "metadata": {},
   "outputs": [
    {
     "name": "stdout",
     "output_type": "stream",
     "text": [
      "DEBUG: Affirmative response string:  20\n"
     ]
    },
    {
     "data": {
      "text/plain": [
       "{'bos': slice(0, 1, None),\n",
       " 'chat_pre': slice(1, 4, None),\n",
       " 'instr': slice(4, 21, None),\n",
       " 'adv': slice(21, 41, None),\n",
       " 'chat': slice(41, 46, None),\n",
       " 'affirm': slice(46, 66, None),\n",
       " 'bad': slice(66, None, None),\n",
       " 'chat3_affirm3': slice(43, 49, None),\n",
       " 'chat_s2': slice(44, 46, None),\n",
       " 'input': slice(4, 41, None),\n",
       " 'chat[-1]': slice(45, 46, None),\n",
       " 'chat[:-1]': slice(41, 45, None)}"
      ]
     },
     "execution_count": 6,
     "metadata": {},
     "output_type": "execute_result"
    }
   ],
   "source": [
    "from src.interp.utils import get_idx_slices\n",
    "\n",
    "\n",
    "get_idx_slices(\n",
    "        model, message, suffix_str, response_str=\"\", \n",
    "    )"
   ]
  },
  {
   "cell_type": "markdown",
   "id": "b6af7a1c",
   "metadata": {},
   "source": [
    "### Hijacking vs Universality\n",
    "\n",
    "Comparing suffixes' universality to their hijacking (repeating analysis in Fig. 8, in small scale)."
   ]
  },
  {
   "cell_type": "code",
   "execution_count": 17,
   "id": "fb210490",
   "metadata": {},
   "outputs": [
    {
     "name": "stdout",
     "output_type": "stream",
     "text": [
      "len(message_ids)=5, len(suffix_ids)=72\n"
     ]
    }
   ],
   "source": [
    "import random\n",
    "import numpy as np\n",
    "\n",
    "# TODO scale!\n",
    "\n",
    "random.seed(42)\n",
    "message_ids = random.sample(data_df.message_id.unique().tolist(), 5)\n",
    "suffix_ids = []\n",
    "intervals = [0, 0.01] + np.arange(0.05, data_df.univ_score.max(), 0.10).tolist()\n",
    "for i in range(len(intervals) - 1):\n",
    "    interval = (intervals[i], intervals[i + 1])\n",
    "    suffixes_in_interval =  data_df[data_df.univ_score.between(*interval)].suffix_id.unique().tolist()\n",
    "    suffix_ids.extend(random.sample(\n",
    "       suffixes_in_interval, min(10, len(suffixes_in_interval))\n",
    "    ))\n",
    "\n",
    "print(f\"{len(message_ids)=}, {len(suffix_ids)=}\")"
   ]
  },
  {
   "cell_type": "code",
   "execution_count": 18,
   "id": "4949b39c",
   "metadata": {},
   "outputs": [
    {
     "data": {
      "application/vnd.jupyter.widget-view+json": {
       "model_id": "38dbc0f4ce574782936553ebd291a07e",
       "version_major": 2,
       "version_minor": 0
      },
      "text/plain": [
       "  0%|          | 0/360 [00:00<?, ?it/s]"
      ]
     },
     "metadata": {},
     "output_type": "display_data"
    },
    {
     "name": "stdout",
     "output_type": "stream",
     "text": [
      "DEBUG: Affirmative response string:  20\n",
      "DEBUG: Affirmative response string:  20\n",
      "DEBUG: Affirmative response string:  20\n",
      "DEBUG: Affirmative response string:  20\n",
      "DEBUG: Affirmative response string:  20\n",
      "DEBUG: Affirmative response string:  20\n",
      "DEBUG: Affirmative response string:  20\n",
      "DEBUG: Affirmative response string:  20\n",
      "DEBUG: Affirmative response string:  20\n",
      "DEBUG: Affirmative response string:  20\n",
      "DEBUG: Affirmative response string:  20\n",
      "DEBUG: Affirmative response string:  20\n",
      "DEBUG: Affirmative response string:  20\n",
      "DEBUG: Affirmative response string:  20\n",
      "DEBUG: Affirmative response string:  20\n",
      "DEBUG: Affirmative response string:  20\n",
      "DEBUG: Affirmative response string:  20\n",
      "DEBUG: Affirmative response string:  20\n",
      "DEBUG: Affirmative response string:  20\n",
      "DEBUG: Affirmative response string:  20\n",
      "DEBUG: Affirmative response string:  20\n",
      "DEBUG: Affirmative response string:  20\n",
      "DEBUG: Affirmative response string:  20\n",
      "DEBUG: Affirmative response string:  20\n",
      "DEBUG: Affirmative response string:  20\n",
      "DEBUG: Affirmative response string:  20\n",
      "DEBUG: Affirmative response string:  20\n",
      "DEBUG: Affirmative response string:  20\n",
      "DEBUG: Affirmative response string:  20\n",
      "DEBUG: Affirmative response string:  20\n",
      "DEBUG: Affirmative response string:  20\n",
      "DEBUG: Affirmative response string:  20\n",
      "DEBUG: Affirmative response string:  20\n",
      "DEBUG: Affirmative response string:  20\n",
      "DEBUG: Affirmative response string:  20\n",
      "DEBUG: Affirmative response string:  20\n",
      "DEBUG: Affirmative response string:  20\n",
      "DEBUG: Affirmative response string:  20\n",
      "DEBUG: Affirmative response string:  20\n",
      "DEBUG: Affirmative response string:  20\n",
      "DEBUG: Affirmative response string:  20\n",
      "DEBUG: Affirmative response string:  20\n",
      "DEBUG: Affirmative response string:  20\n",
      "DEBUG: Affirmative response string:  20\n",
      "DEBUG: Affirmative response string:  20\n",
      "DEBUG: Affirmative response string:  20\n",
      "DEBUG: Affirmative response string:  20\n",
      "DEBUG: Affirmative response string:  20\n",
      "DEBUG: Affirmative response string:  20\n",
      "DEBUG: Affirmative response string:  20\n",
      "DEBUG: Affirmative response string:  20\n",
      "DEBUG: Affirmative response string:  20\n",
      "DEBUG: Affirmative response string:  20\n",
      "DEBUG: Affirmative response string:  20\n",
      "DEBUG: Affirmative response string:  20\n",
      "DEBUG: Affirmative response string:  20\n",
      "DEBUG: Affirmative response string:  20\n",
      "DEBUG: Affirmative response string:  20\n",
      "DEBUG: Affirmative response string:  20\n",
      "DEBUG: Affirmative response string:  20\n",
      "DEBUG: Affirmative response string:  20\n",
      "DEBUG: Affirmative response string:  20\n",
      "DEBUG: Affirmative response string:  20\n",
      "DEBUG: Affirmative response string:  20\n",
      "DEBUG: Affirmative response string:  20\n",
      "DEBUG: Affirmative response string:  20\n",
      "DEBUG: Affirmative response string:  20\n",
      "DEBUG: Affirmative response string:  20\n",
      "DEBUG: Affirmative response string:  20\n",
      "DEBUG: Affirmative response string:  20\n",
      "DEBUG: Affirmative response string:  20\n",
      "DEBUG: Affirmative response string:  20\n",
      "DEBUG: Affirmative response string:  20\n",
      "DEBUG: Affirmative response string:  20\n",
      "DEBUG: Affirmative response string:  20\n",
      "DEBUG: Affirmative response string:  20\n",
      "DEBUG: Affirmative response string:  20\n",
      "DEBUG: Affirmative response string:  20\n",
      "DEBUG: Affirmative response string:  20\n",
      "DEBUG: Affirmative response string:  20\n",
      "DEBUG: Affirmative response string:  20\n",
      "DEBUG: Affirmative response string:  20\n",
      "DEBUG: Affirmative response string:  20\n",
      "DEBUG: Affirmative response string:  20\n",
      "DEBUG: Affirmative response string:  20\n",
      "DEBUG: Affirmative response string:  20\n",
      "DEBUG: Affirmative response string:  20\n",
      "DEBUG: Affirmative response string:  20\n",
      "DEBUG: Affirmative response string:  20\n",
      "DEBUG: Affirmative response string:  20\n",
      "DEBUG: Affirmative response string:  20\n",
      "DEBUG: Affirmative response string:  20\n",
      "DEBUG: Affirmative response string:  20\n",
      "DEBUG: Affirmative response string:  20\n",
      "DEBUG: Affirmative response string:  20\n",
      "DEBUG: Affirmative response string:  20\n",
      "DEBUG: Affirmative response string:  20\n",
      "DEBUG: Affirmative response string:  20\n",
      "DEBUG: Affirmative response string:  20\n",
      "DEBUG: Affirmative response string:  20\n",
      "DEBUG: Affirmative response string:  20\n",
      "DEBUG: Affirmative response string:  20\n",
      "DEBUG: Affirmative response string:  20\n",
      "DEBUG: Affirmative response string:  20\n",
      "DEBUG: Affirmative response string:  20\n",
      "DEBUG: Affirmative response string:  20\n",
      "DEBUG: Affirmative response string:  20\n",
      "DEBUG: Affirmative response string:  20\n",
      "DEBUG: Affirmative response string:  20\n",
      "DEBUG: Affirmative response string:  20\n",
      "DEBUG: Affirmative response string:  20\n",
      "DEBUG: Affirmative response string:  20\n",
      "DEBUG: Affirmative response string:  20\n",
      "DEBUG: Affirmative response string:  20\n",
      "DEBUG: Affirmative response string:  20\n",
      "DEBUG: Affirmative response string:  20\n",
      "DEBUG: Affirmative response string:  20\n",
      "DEBUG: Affirmative response string:  20\n",
      "DEBUG: Affirmative response string:  20\n",
      "DEBUG: Affirmative response string:  20\n",
      "DEBUG: Affirmative response string:  20\n",
      "DEBUG: Affirmative response string:  20\n",
      "DEBUG: Affirmative response string:  20\n",
      "DEBUG: Affirmative response string:  20\n",
      "DEBUG: Affirmative response string:  20\n",
      "DEBUG: Affirmative response string:  20\n",
      "DEBUG: Affirmative response string:  20\n",
      "DEBUG: Affirmative response string:  20\n",
      "DEBUG: Affirmative response string:  20\n",
      "DEBUG: Affirmative response string:  20\n",
      "DEBUG: Affirmative response string:  20\n",
      "DEBUG: Affirmative response string:  20\n",
      "DEBUG: Affirmative response string:  20\n",
      "DEBUG: Affirmative response string:  20\n",
      "DEBUG: Affirmative response string:  20\n",
      "DEBUG: Affirmative response string:  20\n",
      "DEBUG: Affirmative response string:  20\n",
      "DEBUG: Affirmative response string:  20\n",
      "DEBUG: Affirmative response string:  20\n",
      "DEBUG: Affirmative response string:  20\n",
      "DEBUG: Affirmative response string:  20\n",
      "DEBUG: Affirmative response string:  20\n",
      "DEBUG: Affirmative response string:  20\n",
      "DEBUG: Affirmative response string:  20\n",
      "DEBUG: Affirmative response string:  20\n",
      "DEBUG: Affirmative response string:  20\n",
      "DEBUG: Affirmative response string:  20\n",
      "DEBUG: Affirmative response string:  20\n",
      "DEBUG: Affirmative response string:  20\n",
      "DEBUG: Affirmative response string:  20\n",
      "DEBUG: Affirmative response string:  20\n",
      "DEBUG: Affirmative response string:  20\n",
      "DEBUG: Affirmative response string:  20\n",
      "DEBUG: Affirmative response string:  20\n",
      "DEBUG: Affirmative response string:  20\n",
      "DEBUG: Affirmative response string:  20\n",
      "DEBUG: Affirmative response string:  20\n",
      "DEBUG: Affirmative response string:  20\n",
      "DEBUG: Affirmative response string:  20\n",
      "DEBUG: Affirmative response string:  20\n",
      "DEBUG: Affirmative response string:  20\n",
      "DEBUG: Affirmative response string:  20\n",
      "DEBUG: Affirmative response string:  20\n",
      "DEBUG: Affirmative response string:  20\n",
      "DEBUG: Affirmative response string:  20\n",
      "DEBUG: Affirmative response string:  20\n",
      "DEBUG: Affirmative response string:  20\n",
      "DEBUG: Affirmative response string:  20\n",
      "DEBUG: Affirmative response string:  20\n",
      "DEBUG: Affirmative response string:  20\n",
      "DEBUG: Affirmative response string:  20\n",
      "DEBUG: Affirmative response string:  20\n",
      "DEBUG: Affirmative response string:  20\n",
      "DEBUG: Affirmative response string:  20\n",
      "DEBUG: Affirmative response string:  20\n",
      "DEBUG: Affirmative response string:  20\n",
      "DEBUG: Affirmative response string:  20\n",
      "DEBUG: Affirmative response string:  20\n",
      "DEBUG: Affirmative response string:  20\n",
      "DEBUG: Affirmative response string:  20\n",
      "DEBUG: Affirmative response string:  20\n",
      "DEBUG: Affirmative response string:  20\n",
      "DEBUG: Affirmative response string:  20\n",
      "DEBUG: Affirmative response string:  20\n",
      "DEBUG: Affirmative response string:  20\n",
      "DEBUG: Affirmative response string:  20\n",
      "DEBUG: Affirmative response string:  20\n",
      "DEBUG: Affirmative response string:  20\n",
      "DEBUG: Affirmative response string:  20\n",
      "DEBUG: Affirmative response string:  20\n",
      "DEBUG: Affirmative response string:  20\n",
      "DEBUG: Affirmative response string:  20\n",
      "DEBUG: Affirmative response string:  20\n",
      "DEBUG: Affirmative response string:  20\n",
      "DEBUG: Affirmative response string:  20\n",
      "DEBUG: Affirmative response string:  20\n",
      "DEBUG: Affirmative response string:  20\n",
      "DEBUG: Affirmative response string:  20\n",
      "DEBUG: Affirmative response string:  20\n",
      "DEBUG: Affirmative response string:  20\n",
      "DEBUG: Affirmative response string:  20\n",
      "DEBUG: Affirmative response string:  20\n",
      "DEBUG: Affirmative response string:  20\n",
      "DEBUG: Affirmative response string:  20\n",
      "DEBUG: Affirmative response string:  20\n",
      "DEBUG: Affirmative response string:  20\n",
      "DEBUG: Affirmative response string:  20\n",
      "DEBUG: Affirmative response string:  20\n",
      "DEBUG: Affirmative response string:  20\n",
      "DEBUG: Affirmative response string:  20\n",
      "DEBUG: Affirmative response string:  20\n",
      "DEBUG: Affirmative response string:  20\n",
      "DEBUG: Affirmative response string:  20\n",
      "DEBUG: Affirmative response string:  20\n",
      "DEBUG: Affirmative response string:  20\n",
      "DEBUG: Affirmative response string:  20\n",
      "DEBUG: Affirmative response string:  20\n",
      "DEBUG: Affirmative response string:  20\n",
      "DEBUG: Affirmative response string:  20\n",
      "DEBUG: Affirmative response string:  20\n",
      "DEBUG: Affirmative response string:  20\n",
      "DEBUG: Affirmative response string:  20\n",
      "DEBUG: Affirmative response string:  20\n",
      "DEBUG: Affirmative response string:  20\n",
      "DEBUG: Affirmative response string:  20\n",
      "DEBUG: Affirmative response string:  20\n",
      "DEBUG: Affirmative response string:  20\n",
      "DEBUG: Affirmative response string:  20\n",
      "DEBUG: Affirmative response string:  20\n",
      "DEBUG: Affirmative response string:  20\n",
      "DEBUG: Affirmative response string:  20\n",
      "DEBUG: Affirmative response string:  20\n",
      "DEBUG: Affirmative response string:  20\n",
      "DEBUG: Affirmative response string:  20\n",
      "DEBUG: Affirmative response string:  20\n",
      "DEBUG: Affirmative response string:  20\n",
      "DEBUG: Affirmative response string:  20\n",
      "DEBUG: Affirmative response string:  20\n",
      "DEBUG: Affirmative response string:  20\n",
      "DEBUG: Affirmative response string:  20\n",
      "DEBUG: Affirmative response string:  20\n",
      "DEBUG: Affirmative response string:  20\n",
      "DEBUG: Affirmative response string:  20\n",
      "DEBUG: Affirmative response string:  20\n",
      "DEBUG: Affirmative response string:  20\n",
      "DEBUG: Affirmative response string:  20\n",
      "DEBUG: Affirmative response string:  20\n",
      "DEBUG: Affirmative response string:  20\n",
      "DEBUG: Affirmative response string:  20\n",
      "DEBUG: Affirmative response string:  20\n",
      "DEBUG: Affirmative response string:  20\n",
      "DEBUG: Affirmative response string:  20\n",
      "DEBUG: Affirmative response string:  20\n",
      "DEBUG: Affirmative response string:  20\n",
      "DEBUG: Affirmative response string:  20\n",
      "DEBUG: Affirmative response string:  20\n",
      "DEBUG: Affirmative response string:  20\n",
      "DEBUG: Affirmative response string:  20\n",
      "DEBUG: Affirmative response string:  20\n",
      "DEBUG: Affirmative response string:  20\n",
      "DEBUG: Affirmative response string:  20\n",
      "DEBUG: Affirmative response string:  20\n",
      "DEBUG: Affirmative response string:  20\n",
      "DEBUG: Affirmative response string:  20\n",
      "DEBUG: Affirmative response string:  20\n",
      "DEBUG: Affirmative response string:  20\n",
      "DEBUG: Affirmative response string:  20\n",
      "DEBUG: Affirmative response string:  20\n",
      "DEBUG: Affirmative response string:  20\n",
      "DEBUG: Affirmative response string:  20\n",
      "DEBUG: Affirmative response string:  20\n",
      "DEBUG: Affirmative response string:  20\n",
      "DEBUG: Affirmative response string:  20\n",
      "DEBUG: Affirmative response string:  20\n",
      "DEBUG: Affirmative response string:  20\n",
      "DEBUG: Affirmative response string:  20\n",
      "DEBUG: Affirmative response string:  20\n",
      "DEBUG: Affirmative response string:  20\n",
      "DEBUG: Affirmative response string:  20\n",
      "DEBUG: Affirmative response string:  20\n",
      "DEBUG: Affirmative response string:  20\n",
      "DEBUG: Affirmative response string:  20\n",
      "DEBUG: Affirmative response string:  20\n",
      "DEBUG: Affirmative response string:  20\n",
      "DEBUG: Affirmative response string:  20\n",
      "DEBUG: Affirmative response string:  20\n",
      "DEBUG: Affirmative response string:  20\n",
      "DEBUG: Affirmative response string:  20\n",
      "DEBUG: Affirmative response string:  20\n",
      "DEBUG: Affirmative response string:  20\n",
      "DEBUG: Affirmative response string:  20\n",
      "DEBUG: Affirmative response string:  20\n",
      "DEBUG: Affirmative response string:  20\n",
      "DEBUG: Affirmative response string:  20\n",
      "DEBUG: Affirmative response string:  20\n",
      "DEBUG: Affirmative response string:  20\n",
      "DEBUG: Affirmative response string:  20\n",
      "DEBUG: Affirmative response string:  20\n",
      "DEBUG: Affirmative response string:  20\n",
      "DEBUG: Affirmative response string:  20\n",
      "DEBUG: Affirmative response string:  20\n",
      "DEBUG: Affirmative response string:  20\n",
      "DEBUG: Affirmative response string:  20\n",
      "DEBUG: Affirmative response string:  20\n",
      "DEBUG: Affirmative response string:  20\n",
      "DEBUG: Affirmative response string:  20\n",
      "DEBUG: Affirmative response string:  20\n",
      "DEBUG: Affirmative response string:  20\n",
      "DEBUG: Affirmative response string:  20\n",
      "DEBUG: Affirmative response string:  20\n",
      "DEBUG: Affirmative response string:  20\n",
      "DEBUG: Affirmative response string:  20\n",
      "DEBUG: Affirmative response string:  20\n",
      "DEBUG: Affirmative response string:  20\n",
      "DEBUG: Affirmative response string:  20\n",
      "DEBUG: Affirmative response string:  20\n",
      "DEBUG: Affirmative response string:  20\n",
      "DEBUG: Affirmative response string:  20\n",
      "DEBUG: Affirmative response string:  20\n",
      "DEBUG: Affirmative response string:  20\n",
      "DEBUG: Affirmative response string:  20\n",
      "DEBUG: Affirmative response string:  20\n",
      "DEBUG: Affirmative response string:  20\n",
      "DEBUG: Affirmative response string:  20\n",
      "DEBUG: Affirmative response string:  20\n",
      "DEBUG: Affirmative response string:  20\n",
      "DEBUG: Affirmative response string:  20\n",
      "DEBUG: Affirmative response string:  20\n",
      "DEBUG: Affirmative response string:  20\n",
      "DEBUG: Affirmative response string:  20\n",
      "DEBUG: Affirmative response string:  20\n",
      "DEBUG: Affirmative response string:  20\n",
      "DEBUG: Affirmative response string:  20\n",
      "DEBUG: Affirmative response string:  20\n",
      "DEBUG: Affirmative response string:  20\n",
      "DEBUG: Affirmative response string:  20\n",
      "DEBUG: Affirmative response string:  20\n",
      "DEBUG: Affirmative response string:  20\n",
      "DEBUG: Affirmative response string:  20\n",
      "DEBUG: Affirmative response string:  20\n",
      "DEBUG: Affirmative response string:  20\n",
      "DEBUG: Affirmative response string:  20\n",
      "DEBUG: Affirmative response string:  20\n",
      "DEBUG: Affirmative response string:  20\n",
      "DEBUG: Affirmative response string:  20\n",
      "DEBUG: Affirmative response string:  20\n",
      "DEBUG: Affirmative response string:  20\n",
      "DEBUG: Affirmative response string:  20\n",
      "DEBUG: Affirmative response string:  20\n",
      "DEBUG: Affirmative response string:  20\n",
      "DEBUG: Affirmative response string:  20\n",
      "DEBUG: Affirmative response string:  20\n",
      "DEBUG: Affirmative response string:  20\n",
      "DEBUG: Affirmative response string:  20\n",
      "DEBUG: Affirmative response string:  20\n",
      "DEBUG: Affirmative response string:  20\n",
      "DEBUG: Affirmative response string:  20\n",
      "DEBUG: Affirmative response string:  20\n",
      "DEBUG: Affirmative response string:  20\n",
      "DEBUG: Affirmative response string:  20\n"
     ]
    }
   ],
   "source": [
    "from tqdm.contrib.itertools import product\n",
    "import src.interp.dominance_tools as dominance_tools\n",
    "\n",
    "df = []\n",
    "\n",
    "for message_id, suffix_id in product(message_ids, suffix_ids):\n",
    "    message_str = data_df[data_df.message_id == message_id].iloc[0].message_str\n",
    "    suffix_row = data_df[data_df.suffix_id == suffix_id].iloc[0]\n",
    "    suffix_str, suffix_univ, suffix_id = suffix_row.suffix_str, suffix_row.univ_score, suffix_row.suffix_id\n",
    "\n",
    "    dom_scores = dominance_tools.get_dom_scores(\n",
    "        model,\n",
    "        message_str, suffix_str,\n",
    "        dst_slc_name = 'chat[-1]',\n",
    "        hijacking_metric ='Y@attn',\n",
    "        hijacking_metric_flavor = 'sum',\n",
    "    )\n",
    "    hijacking_strength = dom_scores['adv'][20].item()  # adv's dominance score at layer 20 (for Gemma-2-2b-it)\n",
    "\n",
    "    df.append({\n",
    "        'message_id': message_id,\n",
    "        'suffix_id': suffix_id,\n",
    "        'message_str': message_str,\n",
    "        'suffix_str': suffix_str,\n",
    "        'suffix_univ': suffix_univ,\n",
    "        'hijacking_strength': hijacking_strength  # TODO make this dom_adv_score\n",
    "    })\n",
    "\n",
    "df = pd.DataFrame(df)"
   ]
  },
  {
   "cell_type": "code",
   "execution_count": null,
   "id": "6c8e91c3",
   "metadata": {},
   "outputs": [],
   "source": [
    "df.to_csv('tmp_gemma-2-2b-it-hijacking-strength.csv', index=False)"
   ]
  },
  {
   "cell_type": "code",
   "execution_count": 30,
   "id": "faf47880",
   "metadata": {},
   "outputs": [
    {
     "data": {
      "image/svg+xml": [
       "<svg class=\"main-svg\" xmlns=\"http://www.w3.org/2000/svg\" xmlns:xlink=\"http://www.w3.org/1999/xlink\" width=\"500\" height=\"350\" style=\"\" viewBox=\"0 0 500 350\"><rect x=\"0\" y=\"0\" width=\"500\" height=\"350\" style=\"fill: rgb(255, 255, 255); fill-opacity: 1;\"/><defs id=\"defs-02b330\"><g class=\"clips\"><clipPath id=\"clip02b330xyplot\" class=\"plotclip\"><rect width=\"340\" height=\"170\"/></clipPath><clipPath class=\"axesclip\" id=\"clip02b330x\"><rect x=\"80\" y=\"0\" width=\"340\" height=\"350\"/></clipPath><clipPath class=\"axesclip\" id=\"clip02b330y\"><rect x=\"0\" y=\"100\" width=\"500\" height=\"170\"/></clipPath><clipPath class=\"axesclip\" id=\"clip02b330xy\"><rect x=\"80\" y=\"100\" width=\"340\" height=\"170\"/></clipPath></g><g class=\"gradients\"/><g class=\"patterns\"/></defs><g class=\"bglayer\"/><g class=\"layer-below\"><g class=\"imagelayer\"/><g class=\"shapelayer\"/></g><g class=\"cartesianlayer\"><g class=\"subplot xy\"><g class=\"layer-subplot\"><g class=\"shapelayer\"/><g class=\"imagelayer\"/></g><g class=\"minor-gridlayer\"><g class=\"x\"/><g class=\"y\"/></g><g class=\"gridlayer\"><g class=\"x\"><path class=\"xgrid crisp\" transform=\"translate(192.11,0)\" d=\"M0,100v170\" style=\"stroke: rgb(235, 240, 248); stroke-opacity: 1; stroke-width: 1px;\"/><path class=\"xgrid crisp\" transform=\"translate(284.34000000000003,0)\" d=\"M0,100v170\" style=\"stroke: rgb(235, 240, 248); stroke-opacity: 1; stroke-width: 1px;\"/><path class=\"xgrid crisp\" transform=\"translate(376.57,0)\" d=\"M0,100v170\" style=\"stroke: rgb(235, 240, 248); stroke-opacity: 1; stroke-width: 1px;\"/></g><g class=\"y\"><path class=\"ygrid crisp\" transform=\"translate(0,227.56)\" d=\"M80,0h340\" style=\"stroke: rgb(235, 240, 248); stroke-opacity: 1; stroke-width: 1px;\"/><path class=\"ygrid crisp\" transform=\"translate(0,188.17000000000002)\" d=\"M80,0h340\" style=\"stroke: rgb(235, 240, 248); stroke-opacity: 1; stroke-width: 1px;\"/><path class=\"ygrid crisp\" transform=\"translate(0,148.79)\" d=\"M80,0h340\" style=\"stroke: rgb(235, 240, 248); stroke-opacity: 1; stroke-width: 1px;\"/><path class=\"ygrid crisp\" transform=\"translate(0,109.41)\" d=\"M80,0h340\" style=\"stroke: rgb(235, 240, 248); stroke-opacity: 1; stroke-width: 1px;\"/></g></g><g class=\"zerolinelayer\"><path class=\"xzl zl crisp\" transform=\"translate(99.88,0)\" d=\"M0,100v170\" style=\"stroke: rgb(235, 240, 248); stroke-opacity: 1; stroke-width: 2px;\"/><path class=\"yzl zl crisp\" transform=\"translate(0,266.94)\" d=\"M80,0h340\" style=\"stroke: rgb(235, 240, 248); stroke-opacity: 1; stroke-width: 2px;\"/></g><path class=\"xlines-below\"/><path class=\"ylines-below\"/><g class=\"overlines-below\"/><g class=\"xaxislayer-below\"/><g class=\"yaxislayer-below\"/><g class=\"overaxes-below\"/><g class=\"plot\" transform=\"translate(80,100)\" clip-path=\"url(#clip02b330xyplot)\"><g class=\"scatterlayer mlayer\"><g class=\"trace scatter traced293bb\" style=\"stroke-miterlimit: 2; opacity: 1;\"><g class=\"fills\"/><g class=\"errorbars\"/><g class=\"lines\"/><g class=\"points\"><path class=\"point\" transform=\"translate(47.35,64.17)\" d=\"M3,0A3,3 0 1,1 0,-3A3,3 0 0,1 3,0Z\" style=\"opacity: 1; stroke-width: 0px; fill: rgb(99, 110, 250); fill-opacity: 1;\"/><path class=\"point\" transform=\"translate(166.08,135.15)\" d=\"M3,0A3,3 0 1,1 0,-3A3,3 0 0,1 3,0Z\" style=\"opacity: 1; stroke-width: 0px; fill: rgb(99, 110, 250); fill-opacity: 1;\"/><path class=\"point\" transform=\"translate(23.98,157.75)\" d=\"M3,0A3,3 0 1,1 0,-3A3,3 0 0,1 3,0Z\" style=\"opacity: 1; stroke-width: 0px; fill: rgb(99, 110, 250); fill-opacity: 1;\"/><path class=\"point\" transform=\"translate(284.98,51.09)\" d=\"M3,0A3,3 0 1,1 0,-3A3,3 0 0,1 3,0Z\" style=\"opacity: 1; stroke-width: 0px; fill: rgb(99, 110, 250); fill-opacity: 1;\"/><path class=\"point\" transform=\"translate(242.8,40.88)\" d=\"M3,0A3,3 0 1,1 0,-3A3,3 0 0,1 3,0Z\" style=\"opacity: 1; stroke-width: 0px; fill: rgb(99, 110, 250); fill-opacity: 1;\"/><path class=\"point\" transform=\"translate(193.36,91.19)\" d=\"M3,0A3,3 0 1,1 0,-3A3,3 0 0,1 3,0Z\" style=\"opacity: 1; stroke-width: 0px; fill: rgb(99, 110, 250); fill-opacity: 1;\"/><path class=\"point\" transform=\"translate(42.78,117.19)\" d=\"M3,0A3,3 0 1,1 0,-3A3,3 0 0,1 3,0Z\" style=\"opacity: 1; stroke-width: 0px; fill: rgb(99, 110, 250); fill-opacity: 1;\"/><path class=\"point\" transform=\"translate(186.05,117.9)\" d=\"M3,0A3,3 0 1,1 0,-3A3,3 0 0,1 3,0Z\" style=\"opacity: 1; stroke-width: 0px; fill: rgb(99, 110, 250); fill-opacity: 1;\"/><path class=\"point\" transform=\"translate(22.87,102.05)\" d=\"M3,0A3,3 0 1,1 0,-3A3,3 0 0,1 3,0Z\" style=\"opacity: 1; stroke-width: 0px; fill: rgb(99, 110, 250); fill-opacity: 1;\"/><path class=\"point\" transform=\"translate(27.15,112.74)\" d=\"M3,0A3,3 0 1,1 0,-3A3,3 0 0,1 3,0Z\" style=\"opacity: 1; stroke-width: 0px; fill: rgb(99, 110, 250); fill-opacity: 1;\"/><path class=\"point\" transform=\"translate(107.41,36.32)\" d=\"M3,0A3,3 0 1,1 0,-3A3,3 0 0,1 3,0Z\" style=\"opacity: 1; stroke-width: 0px; fill: rgb(99, 110, 250); fill-opacity: 1;\"/><path class=\"point\" transform=\"translate(138.96,96.68)\" d=\"M3,0A3,3 0 1,1 0,-3A3,3 0 0,1 3,0Z\" style=\"opacity: 1; stroke-width: 0px; fill: rgb(99, 110, 250); fill-opacity: 1;\"/><path class=\"point\" transform=\"translate(116.52,116.72)\" d=\"M3,0A3,3 0 1,1 0,-3A3,3 0 0,1 3,0Z\" style=\"opacity: 1; stroke-width: 0px; fill: rgb(99, 110, 250); fill-opacity: 1;\"/><path class=\"point\" transform=\"translate(160.38,103.18)\" d=\"M3,0A3,3 0 1,1 0,-3A3,3 0 0,1 3,0Z\" style=\"opacity: 1; stroke-width: 0px; fill: rgb(99, 110, 250); fill-opacity: 1;\"/><path class=\"point\" transform=\"translate(210.6,89.37)\" d=\"M3,0A3,3 0 1,1 0,-3A3,3 0 0,1 3,0Z\" style=\"opacity: 1; stroke-width: 0px; fill: rgb(99, 110, 250); fill-opacity: 1;\"/><path class=\"point\" transform=\"translate(22.64,128.84)\" d=\"M3,0A3,3 0 1,1 0,-3A3,3 0 0,1 3,0Z\" style=\"opacity: 1; stroke-width: 0px; fill: rgb(99, 110, 250); fill-opacity: 1;\"/><path class=\"point\" transform=\"translate(110.1,73.31)\" d=\"M3,0A3,3 0 1,1 0,-3A3,3 0 0,1 3,0Z\" style=\"opacity: 1; stroke-width: 0px; fill: rgb(99, 110, 250); fill-opacity: 1;\"/><path class=\"point\" transform=\"translate(91.37,103.33)\" d=\"M3,0A3,3 0 1,1 0,-3A3,3 0 0,1 3,0Z\" style=\"opacity: 1; stroke-width: 0px; fill: rgb(99, 110, 250); fill-opacity: 1;\"/><path class=\"point\" transform=\"translate(24.16,99.19)\" d=\"M3,0A3,3 0 1,1 0,-3A3,3 0 0,1 3,0Z\" style=\"opacity: 1; stroke-width: 0px; fill: rgb(99, 110, 250); fill-opacity: 1;\"/><path class=\"point\" transform=\"translate(25.87,148.31)\" d=\"M3,0A3,3 0 1,1 0,-3A3,3 0 0,1 3,0Z\" style=\"opacity: 1; stroke-width: 0px; fill: rgb(99, 110, 250); fill-opacity: 1;\"/><path class=\"point\" transform=\"translate(62.15,82.26)\" d=\"M3,0A3,3 0 1,1 0,-3A3,3 0 0,1 3,0Z\" style=\"opacity: 1; stroke-width: 0px; fill: rgb(99, 110, 250); fill-opacity: 1;\"/><path class=\"point\" transform=\"translate(303.75,12.25)\" d=\"M3,0A3,3 0 1,1 0,-3A3,3 0 0,1 3,0Z\" style=\"opacity: 1; stroke-width: 0px; fill: rgb(99, 110, 250); fill-opacity: 1;\"/><path class=\"point\" transform=\"translate(31.14,39.8)\" d=\"M3,0A3,3 0 1,1 0,-3A3,3 0 0,1 3,0Z\" style=\"opacity: 1; stroke-width: 0px; fill: rgb(99, 110, 250); fill-opacity: 1;\"/><path class=\"point\" transform=\"translate(39.24,141.29)\" d=\"M3,0A3,3 0 1,1 0,-3A3,3 0 0,1 3,0Z\" style=\"opacity: 1; stroke-width: 0px; fill: rgb(99, 110, 250); fill-opacity: 1;\"/><path class=\"point\" transform=\"translate(22.97,128.41)\" d=\"M3,0A3,3 0 1,1 0,-3A3,3 0 0,1 3,0Z\" style=\"opacity: 1; stroke-width: 0px; fill: rgb(99, 110, 250); fill-opacity: 1;\"/><path class=\"point\" transform=\"translate(81.09,131.61)\" d=\"M3,0A3,3 0 1,1 0,-3A3,3 0 0,1 3,0Z\" style=\"opacity: 1; stroke-width: 0px; fill: rgb(99, 110, 250); fill-opacity: 1;\"/><path class=\"point\" transform=\"translate(119.21,61.31)\" d=\"M3,0A3,3 0 1,1 0,-3A3,3 0 0,1 3,0Z\" style=\"opacity: 1; stroke-width: 0px; fill: rgb(99, 110, 250); fill-opacity: 1;\"/><path class=\"point\" transform=\"translate(23.17,149.51)\" d=\"M3,0A3,3 0 1,1 0,-3A3,3 0 0,1 3,0Z\" style=\"opacity: 1; stroke-width: 0px; fill: rgb(99, 110, 250); fill-opacity: 1;\"/><path class=\"point\" transform=\"translate(276.08,73.87)\" d=\"M3,0A3,3 0 1,1 0,-3A3,3 0 0,1 3,0Z\" style=\"opacity: 1; stroke-width: 0px; fill: rgb(99, 110, 250); fill-opacity: 1;\"/><path class=\"point\" transform=\"translate(257.72,78.95)\" d=\"M3,0A3,3 0 1,1 0,-3A3,3 0 0,1 3,0Z\" style=\"opacity: 1; stroke-width: 0px; fill: rgb(99, 110, 250); fill-opacity: 1;\"/><path class=\"point\" transform=\"translate(209.3,112.03)\" d=\"M3,0A3,3 0 1,1 0,-3A3,3 0 0,1 3,0Z\" style=\"opacity: 1; stroke-width: 0px; fill: rgb(99, 110, 250); fill-opacity: 1;\"/><path class=\"point\" transform=\"translate(140.9,107.92)\" d=\"M3,0A3,3 0 1,1 0,-3A3,3 0 0,1 3,0Z\" style=\"opacity: 1; stroke-width: 0px; fill: rgb(99, 110, 250); fill-opacity: 1;\"/><path class=\"point\" transform=\"translate(319.25,15.95)\" d=\"M3,0A3,3 0 1,1 0,-3A3,3 0 0,1 3,0Z\" style=\"opacity: 1; stroke-width: 0px; fill: rgb(99, 110, 250); fill-opacity: 1;\"/><path class=\"point\" transform=\"translate(266.35,77.89)\" d=\"M3,0A3,3 0 1,1 0,-3A3,3 0 0,1 3,0Z\" style=\"opacity: 1; stroke-width: 0px; fill: rgb(99, 110, 250); fill-opacity: 1;\"/><path class=\"point\" transform=\"translate(174.92,137.45)\" d=\"M3,0A3,3 0 1,1 0,-3A3,3 0 0,1 3,0Z\" style=\"opacity: 1; stroke-width: 0px; fill: rgb(99, 110, 250); fill-opacity: 1;\"/><path class=\"point\" transform=\"translate(62.66,113.74)\" d=\"M3,0A3,3 0 1,1 0,-3A3,3 0 0,1 3,0Z\" style=\"opacity: 1; stroke-width: 0px; fill: rgb(99, 110, 250); fill-opacity: 1;\"/><path class=\"point\" transform=\"translate(89.44,151.13)\" d=\"M3,0A3,3 0 1,1 0,-3A3,3 0 0,1 3,0Z\" style=\"opacity: 1; stroke-width: 0px; fill: rgb(99, 110, 250); fill-opacity: 1;\"/><path class=\"point\" transform=\"translate(49.47,101.82)\" d=\"M3,0A3,3 0 1,1 0,-3A3,3 0 0,1 3,0Z\" style=\"opacity: 1; stroke-width: 0px; fill: rgb(99, 110, 250); fill-opacity: 1;\"/><path class=\"point\" transform=\"translate(143.37,78.65)\" d=\"M3,0A3,3 0 1,1 0,-3A3,3 0 0,1 3,0Z\" style=\"opacity: 1; stroke-width: 0px; fill: rgb(99, 110, 250); fill-opacity: 1;\"/><path class=\"point\" transform=\"translate(30.39,81.83)\" d=\"M3,0A3,3 0 1,1 0,-3A3,3 0 0,1 3,0Z\" style=\"opacity: 1; stroke-width: 0px; fill: rgb(99, 110, 250); fill-opacity: 1;\"/><path class=\"point\" transform=\"translate(32.3,153.73)\" d=\"M3,0A3,3 0 1,1 0,-3A3,3 0 0,1 3,0Z\" style=\"opacity: 1; stroke-width: 0px; fill: rgb(99, 110, 250); fill-opacity: 1;\"/><path class=\"point\" transform=\"translate(30.99,130.54)\" d=\"M3,0A3,3 0 1,1 0,-3A3,3 0 0,1 3,0Z\" style=\"opacity: 1; stroke-width: 0px; fill: rgb(99, 110, 250); fill-opacity: 1;\"/><path class=\"point\" transform=\"translate(99.58,40.83)\" d=\"M3,0A3,3 0 1,1 0,-3A3,3 0 0,1 3,0Z\" style=\"opacity: 1; stroke-width: 0px; fill: rgb(99, 110, 250); fill-opacity: 1;\"/><path class=\"point\" transform=\"translate(124.57,28.23)\" d=\"M3,0A3,3 0 1,1 0,-3A3,3 0 0,1 3,0Z\" style=\"opacity: 1; stroke-width: 0px; fill: rgb(99, 110, 250); fill-opacity: 1;\"/><path class=\"point\" transform=\"translate(236.44,92.27)\" d=\"M3,0A3,3 0 1,1 0,-3A3,3 0 0,1 3,0Z\" style=\"opacity: 1; stroke-width: 0px; fill: rgb(99, 110, 250); fill-opacity: 1;\"/><path class=\"point\" transform=\"translate(143.06,141.41)\" d=\"M3,0A3,3 0 1,1 0,-3A3,3 0 0,1 3,0Z\" style=\"opacity: 1; stroke-width: 0px; fill: rgb(99, 110, 250); fill-opacity: 1;\"/><path class=\"point\" transform=\"translate(22.46,119.87)\" d=\"M3,0A3,3 0 1,1 0,-3A3,3 0 0,1 3,0Z\" style=\"opacity: 1; stroke-width: 0px; fill: rgb(99, 110, 250); fill-opacity: 1;\"/><path class=\"point\" transform=\"translate(195.46,123.48)\" d=\"M3,0A3,3 0 1,1 0,-3A3,3 0 0,1 3,0Z\" style=\"opacity: 1; stroke-width: 0px; fill: rgb(99, 110, 250); fill-opacity: 1;\"/><path class=\"point\" transform=\"translate(68.76,127.94)\" d=\"M3,0A3,3 0 1,1 0,-3A3,3 0 0,1 3,0Z\" style=\"opacity: 1; stroke-width: 0px; fill: rgb(99, 110, 250); fill-opacity: 1;\"/><path class=\"point\" transform=\"translate(137.67,107.12)\" d=\"M3,0A3,3 0 1,1 0,-3A3,3 0 0,1 3,0Z\" style=\"opacity: 1; stroke-width: 0px; fill: rgb(99, 110, 250); fill-opacity: 1;\"/><path class=\"point\" transform=\"translate(32.19,50.23)\" d=\"M3,0A3,3 0 1,1 0,-3A3,3 0 0,1 3,0Z\" style=\"opacity: 1; stroke-width: 0px; fill: rgb(99, 110, 250); fill-opacity: 1;\"/><path class=\"point\" transform=\"translate(133.04,83.48)\" d=\"M3,0A3,3 0 1,1 0,-3A3,3 0 0,1 3,0Z\" style=\"opacity: 1; stroke-width: 0px; fill: rgb(99, 110, 250); fill-opacity: 1;\"/><path class=\"point\" transform=\"translate(193.14,52.25)\" d=\"M3,0A3,3 0 1,1 0,-3A3,3 0 0,1 3,0Z\" style=\"opacity: 1; stroke-width: 0px; fill: rgb(99, 110, 250); fill-opacity: 1;\"/><path class=\"point\" transform=\"translate(235.04,25.62)\" d=\"M3,0A3,3 0 1,1 0,-3A3,3 0 0,1 3,0Z\" style=\"opacity: 1; stroke-width: 0px; fill: rgb(99, 110, 250); fill-opacity: 1;\"/><path class=\"point\" transform=\"translate(67.41,97.54)\" d=\"M3,0A3,3 0 1,1 0,-3A3,3 0 0,1 3,0Z\" style=\"opacity: 1; stroke-width: 0px; fill: rgb(99, 110, 250); fill-opacity: 1;\"/><path class=\"point\" transform=\"translate(34.5,28.76)\" d=\"M3,0A3,3 0 1,1 0,-3A3,3 0 0,1 3,0Z\" style=\"opacity: 1; stroke-width: 0px; fill: rgb(99, 110, 250); fill-opacity: 1;\"/><path class=\"point\" transform=\"translate(111.03,112.29)\" d=\"M3,0A3,3 0 1,1 0,-3A3,3 0 0,1 3,0Z\" style=\"opacity: 1; stroke-width: 0px; fill: rgb(99, 110, 250); fill-opacity: 1;\"/><path class=\"point\" transform=\"translate(138.18,28.47)\" d=\"M3,0A3,3 0 1,1 0,-3A3,3 0 0,1 3,0Z\" style=\"opacity: 1; stroke-width: 0px; fill: rgb(99, 110, 250); fill-opacity: 1;\"/><path class=\"point\" transform=\"translate(20.75,85.47)\" d=\"M3,0A3,3 0 1,1 0,-3A3,3 0 0,1 3,0Z\" style=\"opacity: 1; stroke-width: 0px; fill: rgb(99, 110, 250); fill-opacity: 1;\"/><path class=\"point\" transform=\"translate(200.19,72.58)\" d=\"M3,0A3,3 0 1,1 0,-3A3,3 0 0,1 3,0Z\" style=\"opacity: 1; stroke-width: 0px; fill: rgb(99, 110, 250); fill-opacity: 1;\"/><path class=\"point\" transform=\"translate(22.13,116.66)\" d=\"M3,0A3,3 0 1,1 0,-3A3,3 0 0,1 3,0Z\" style=\"opacity: 1; stroke-width: 0px; fill: rgb(99, 110, 250); fill-opacity: 1;\"/><path class=\"point\" transform=\"translate(182.77,55.61)\" d=\"M3,0A3,3 0 1,1 0,-3A3,3 0 0,1 3,0Z\" style=\"opacity: 1; stroke-width: 0px; fill: rgb(99, 110, 250); fill-opacity: 1;\"/><path class=\"point\" transform=\"translate(192.22,43.51)\" d=\"M3,0A3,3 0 1,1 0,-3A3,3 0 0,1 3,0Z\" style=\"opacity: 1; stroke-width: 0px; fill: rgb(99, 110, 250); fill-opacity: 1;\"/><path class=\"point\" transform=\"translate(135.97,59.99)\" d=\"M3,0A3,3 0 1,1 0,-3A3,3 0 0,1 3,0Z\" style=\"opacity: 1; stroke-width: 0px; fill: rgb(99, 110, 250); fill-opacity: 1;\"/><path class=\"point\" transform=\"translate(77.33,98.67)\" d=\"M3,0A3,3 0 1,1 0,-3A3,3 0 0,1 3,0Z\" style=\"opacity: 1; stroke-width: 0px; fill: rgb(99, 110, 250); fill-opacity: 1;\"/><path class=\"point\" transform=\"translate(65.47,99.03)\" d=\"M3,0A3,3 0 1,1 0,-3A3,3 0 0,1 3,0Z\" style=\"opacity: 1; stroke-width: 0px; fill: rgb(99, 110, 250); fill-opacity: 1;\"/><path class=\"point\" transform=\"translate(23.34,120.22)\" d=\"M3,0A3,3 0 1,1 0,-3A3,3 0 0,1 3,0Z\" style=\"opacity: 1; stroke-width: 0px; fill: rgb(99, 110, 250); fill-opacity: 1;\"/><path class=\"point\" transform=\"translate(236.71,30.59)\" d=\"M3,0A3,3 0 1,1 0,-3A3,3 0 0,1 3,0Z\" style=\"opacity: 1; stroke-width: 0px; fill: rgb(99, 110, 250); fill-opacity: 1;\"/><path class=\"point\" transform=\"translate(254.82,20.64)\" d=\"M3,0A3,3 0 1,1 0,-3A3,3 0 0,1 3,0Z\" style=\"opacity: 1; stroke-width: 0px; fill: rgb(99, 110, 250); fill-opacity: 1;\"/><path class=\"point\" transform=\"translate(65.19,114.65)\" d=\"M3,0A3,3 0 1,1 0,-3A3,3 0 0,1 3,0Z\" style=\"opacity: 1; stroke-width: 0px; fill: rgb(99, 110, 250); fill-opacity: 1;\"/><path class=\"point\" transform=\"translate(213.9,53.87)\" d=\"M3,0A3,3 0 1,1 0,-3A3,3 0 0,1 3,0Z\" style=\"opacity: 1; stroke-width: 0px; fill: rgb(99, 110, 250); fill-opacity: 1;\"/><path class=\"point\" transform=\"translate(247.92,43.64)\" d=\"M3,0A3,3 0 1,1 0,-3A3,3 0 0,1 3,0Z\" style=\"opacity: 1; stroke-width: 0px; fill: rgb(99, 110, 250); fill-opacity: 1;\"/></g><g class=\"text\"/></g><g class=\"trace scatter trace7966e1\" style=\"stroke-miterlimit: 2; opacity: 1;\"><g class=\"fills\"/><g class=\"errorbars\"/><g class=\"lines\"><path class=\"js-line\" d=\"M20.75,113.28L319.25,43.61\" style=\"vector-effect: none; fill: none; stroke: rgb(99, 110, 250); stroke-opacity: 1; stroke-width: 2px; opacity: 1;\"/></g><g class=\"points\"/><g class=\"text\"/></g></g></g><g class=\"overplot\"/><path class=\"xlines-above crisp\" d=\"M0,0\" style=\"fill: none;\"/><path class=\"ylines-above crisp\" d=\"M0,0\" style=\"fill: none;\"/><g class=\"overlines-above\"/><g class=\"xaxislayer-above\"><g class=\"xtick\"><text text-anchor=\"middle\" x=\"0\" y=\"283\" transform=\"translate(99.88,0)\" style=\"font-family: 'Open Sans', verdana, arial, sans-serif; font-size: 12px; fill: rgb(42, 63, 95); fill-opacity: 1; white-space: pre; opacity: 1;\">0</text></g><g class=\"xtick\"><text text-anchor=\"middle\" x=\"0\" y=\"283\" style=\"font-family: 'Open Sans', verdana, arial, sans-serif; font-size: 12px; fill: rgb(42, 63, 95); fill-opacity: 1; white-space: pre; opacity: 1;\" transform=\"translate(192.11,0)\">0.2</text></g><g class=\"xtick\"><text text-anchor=\"middle\" x=\"0\" y=\"283\" style=\"font-family: 'Open Sans', verdana, arial, sans-serif; font-size: 12px; fill: rgb(42, 63, 95); fill-opacity: 1; white-space: pre; opacity: 1;\" transform=\"translate(284.34000000000003,0)\">0.4</text></g><g class=\"xtick\"><text text-anchor=\"middle\" x=\"0\" y=\"283\" style=\"font-family: 'Open Sans', verdana, arial, sans-serif; font-size: 12px; fill: rgb(42, 63, 95); fill-opacity: 1; white-space: pre; opacity: 1;\" transform=\"translate(376.57,0)\">0.6</text></g></g><g class=\"yaxislayer-above\"><g class=\"ytick\"><text text-anchor=\"end\" x=\"79\" y=\"4.199999999999999\" transform=\"translate(0,266.94)\" style=\"font-family: 'Open Sans', verdana, arial, sans-serif; font-size: 12px; fill: rgb(42, 63, 95); fill-opacity: 1; white-space: pre; opacity: 1;\">0</text></g><g class=\"ytick\"><text text-anchor=\"end\" x=\"79\" y=\"4.199999999999999\" style=\"font-family: 'Open Sans', verdana, arial, sans-serif; font-size: 12px; fill: rgb(42, 63, 95); fill-opacity: 1; white-space: pre; opacity: 1;\" transform=\"translate(0,227.56)\">0.2</text></g><g class=\"ytick\"><text text-anchor=\"end\" x=\"79\" y=\"4.199999999999999\" style=\"font-family: 'Open Sans', verdana, arial, sans-serif; font-size: 12px; fill: rgb(42, 63, 95); fill-opacity: 1; white-space: pre; opacity: 1;\" transform=\"translate(0,188.17000000000002)\">0.4</text></g><g class=\"ytick\"><text text-anchor=\"end\" x=\"79\" y=\"4.199999999999999\" style=\"font-family: 'Open Sans', verdana, arial, sans-serif; font-size: 12px; fill: rgb(42, 63, 95); fill-opacity: 1; white-space: pre; opacity: 1;\" transform=\"translate(0,148.79)\">0.6</text></g><g class=\"ytick\"><text text-anchor=\"end\" x=\"79\" y=\"4.199999999999999\" style=\"font-family: 'Open Sans', verdana, arial, sans-serif; font-size: 12px; fill: rgb(42, 63, 95); fill-opacity: 1; white-space: pre; opacity: 1;\" transform=\"translate(0,109.41)\">0.8</text></g></g><g class=\"overaxes-above\"/></g></g><g class=\"polarlayer\"/><g class=\"smithlayer\"/><g class=\"ternarylayer\"/><g class=\"geolayer\"/><g class=\"funnelarealayer\"/><g class=\"pielayer\"/><g class=\"iciclelayer\"/><g class=\"treemaplayer\"/><g class=\"sunburstlayer\"/><g class=\"glimages\"/><defs id=\"topdefs-02b330\"><g class=\"clips\"/></defs><g class=\"layer-above\"><g class=\"imagelayer\"/><g class=\"shapelayer\"/></g><g class=\"infolayer\"><g class=\"g-gtitle\"><text class=\"gtitle\" x=\"25\" y=\"50\" text-anchor=\"start\" dy=\"0em\" style=\"font-family: 'Open Sans', verdana, arial, sans-serif; font-size: 17px; fill: rgb(42, 63, 95); opacity: 1; font-weight: normal; white-space: pre;\">Hijacking vs. Universality (Spearman=0.50)</text></g><g class=\"g-xtitle\"><text class=\"xtitle\" x=\"250\" y=\"310.3\" text-anchor=\"middle\" style=\"font-family: 'Open Sans', verdana, arial, sans-serif; font-size: 14px; fill: rgb(42, 63, 95); opacity: 1; font-weight: normal; white-space: pre;\">Suffix's Universality Score</text></g><g class=\"g-ytitle\"><text class=\"ytitle\" transform=\"rotate(-90,38.0125,185)\" x=\"38.0125\" y=\"185\" text-anchor=\"middle\" style=\"font-family: 'Open Sans', verdana, arial, sans-serif; font-size: 14px; fill: rgb(42, 63, 95); opacity: 1; font-weight: normal; white-space: pre;\">Hijacking Strength</text></g></g></svg>"
      ]
     },
     "metadata": {},
     "output_type": "display_data"
    }
   ],
   "source": [
    "from scipy.stats import spearmanr\n",
    "agg_df = df[['suffix_id', 'suffix_univ', 'hijacking_strength']].groupby('suffix_id').mean().reset_index()  # TODO after avg call it (=the adv dom) hijacking_strength\n",
    "spearman_corr, _ = spearmanr(agg_df['suffix_univ'], agg_df['hijacking_strength'])\n",
    "\n",
    "px.scatter(\n",
    "    agg_df,\n",
    "    # df,\n",
    "    # color='suffix_id',\n",
    "    x='suffix_univ',\n",
    "    y='hijacking_strength',\n",
    "    labels={'suffix_univ': \"Suffix's Universality Score\", 'hijacking_strength': 'Hijacking Strength'},\n",
    "    title=f'Hijacking vs. Universality (Spearman={spearman_corr:.2f})',\n",
    "    width=500, height=350,\n",
    "    trendline=\"ols\",\n",
    "    # log_x=True,\n",
    ")"
   ]
  },
  {
   "cell_type": "code",
   "execution_count": null,
   "id": "d30d2116",
   "metadata": {},
   "outputs": [
    {
     "data": {
      "image/svg+xml": [
       "<svg class=\"main-svg\" xmlns=\"http://www.w3.org/2000/svg\" xmlns:xlink=\"http://www.w3.org/1999/xlink\" width=\"500\" height=\"350\" style=\"\" viewBox=\"0 0 500 350\"><rect x=\"0\" y=\"0\" width=\"500\" height=\"350\" style=\"fill: rgb(255, 255, 255); fill-opacity: 1;\"/><defs id=\"defs-1b2c2c\"><g class=\"clips\"><clipPath id=\"clip1b2c2cxyplot\" class=\"plotclip\"><rect width=\"340\" height=\"197\"/></clipPath><clipPath class=\"axesclip\" id=\"clip1b2c2cx\"><rect x=\"80\" y=\"0\" width=\"340\" height=\"350\"/></clipPath><clipPath class=\"axesclip\" id=\"clip1b2c2cy\"><rect x=\"0\" y=\"60\" width=\"500\" height=\"197\"/></clipPath><clipPath class=\"axesclip\" id=\"clip1b2c2cxy\"><rect x=\"80\" y=\"60\" width=\"340\" height=\"197\"/></clipPath></g><g class=\"gradients\"/><g class=\"patterns\"/></defs><g class=\"bglayer\"/><g class=\"layer-below\"><g class=\"imagelayer\"/><g class=\"shapelayer\"/></g><g class=\"cartesianlayer\"><g class=\"subplot xy\"><g class=\"layer-subplot\"><g class=\"shapelayer\"/><g class=\"imagelayer\"/></g><g class=\"minor-gridlayer\"><g class=\"x\"/><g class=\"y\"/></g><g class=\"gridlayer\"><g class=\"x\"/><g class=\"y\"><path class=\"ygrid crisp\" transform=\"translate(0,210.67)\" d=\"M80,0h340\" style=\"stroke: rgb(235, 240, 248); stroke-opacity: 1; stroke-width: 1px;\"/><path class=\"ygrid crisp\" transform=\"translate(0,163.09)\" d=\"M80,0h340\" style=\"stroke: rgb(235, 240, 248); stroke-opacity: 1; stroke-width: 1px;\"/><path class=\"ygrid crisp\" transform=\"translate(0,115.50999999999999)\" d=\"M80,0h340\" style=\"stroke: rgb(235, 240, 248); stroke-opacity: 1; stroke-width: 1px;\"/><path class=\"ygrid crisp\" transform=\"translate(0,67.93)\" d=\"M80,0h340\" style=\"stroke: rgb(235, 240, 248); stroke-opacity: 1; stroke-width: 1px;\"/></g></g><g class=\"zerolinelayer\"/><path class=\"xlines-below\"/><path class=\"ylines-below\"/><g class=\"overlines-below\"/><g class=\"xaxislayer-below\"/><g class=\"yaxislayer-below\"/><g class=\"overaxes-below\"/><g class=\"plot\" transform=\"translate(80,60)\" clip-path=\"url(#clip1b2c2cxyplot)\"><g class=\"boxlayer mlayer\"><g class=\"trace boxes\" style=\"opacity: 1;\"><path class=\"box\" d=\"M10.84,141.6H31.66M10.84,152.22H31.66V119.86H10.84ZM21.25,152.22V187.15M21.25,119.86V99.82M16.04,187.15H26.46M16.04,99.82H26.46\" style=\"vector-effect: none; stroke-width: 2px; stroke: rgb(100, 149, 237); stroke-opacity: 1; fill: rgb(100, 149, 237); fill-opacity: 0.5;\"/><path class=\"box\" d=\"M53.34,126.17H74.16M53.34,151.14H74.16V95.42H53.34ZM63.75,151.14V182.3M63.75,95.42V31.31M58.54,182.3H68.96M58.54,31.31H68.96\" style=\"vector-effect: none; stroke-width: 2px; stroke: rgb(100, 149, 237); stroke-opacity: 1; fill: rgb(100, 149, 237); fill-opacity: 0.5;\"/><path class=\"box\" d=\"M95.84,121.4H116.66M95.84,142.07H116.66V75.32H95.84ZM106.25,142.07V179.15M106.25,75.32V40.45M101.04,179.15H111.46M101.04,40.45H111.46\" style=\"vector-effect: none; stroke-width: 2px; stroke: rgb(100, 149, 237); stroke-opacity: 1; fill: rgb(100, 149, 237); fill-opacity: 0.5;\"/><path class=\"box\" d=\"M138.34,97.42H159.16M138.34,124.79H159.16V69.44H138.34ZM148.75,124.79V167.41M148.75,69.44V30.68M143.54,167.41H153.96M143.54,30.68H153.96\" style=\"vector-effect: none; stroke-width: 2px; stroke: rgb(100, 149, 237); stroke-opacity: 1; fill: rgb(100, 149, 237); fill-opacity: 0.5;\"/><path class=\"box\" d=\"M180.84,106.74H201.66M180.84,149.27H201.66V62.73H180.84ZM191.25,149.27V162.63M191.25,62.73V49.13M186.04,162.63H196.46M186.04,49.13H196.46\" style=\"vector-effect: none; stroke-width: 2px; stroke: rgb(100, 149, 237); stroke-opacity: 1; fill: rgb(100, 149, 237); fill-opacity: 0.5;\"/><path class=\"box\" d=\"M223.34,49.28H244.16M223.34,105.41H244.16V32.02H223.34ZM233.75,105.41V131.91M233.75,32.02V21.5M228.54,131.91H238.96M228.54,21.5H238.96\" style=\"vector-effect: none; stroke-width: 2px; stroke: rgb(100, 149, 237); stroke-opacity: 1; fill: rgb(100, 149, 237); fill-opacity: 0.5;\"/><path class=\"box\" d=\"M265.84,88.24H286.66M265.84,91.31H286.66V72.05H265.84ZM276.25,91.31V91.95M276.25,72.05V58.28M271.04,91.95H281.46M271.04,58.28H281.46\" style=\"vector-effect: none; stroke-width: 2px; stroke: rgb(100, 149, 237); stroke-opacity: 1; fill: rgb(100, 149, 237); fill-opacity: 0.5;\"/><path class=\"box\" d=\"M308.34,13.6H329.16M308.34,15.84H329.16V11.36H308.34ZM318.75,15.84V15.84M318.75,11.36V11.36M313.54,15.84H323.96M313.54,11.36H323.96\" style=\"vector-effect: none; stroke-width: 2px; stroke: rgb(100, 149, 237); stroke-opacity: 1; fill: rgb(100, 149, 237); fill-opacity: 0.5;\"/><g class=\"points\"/><g class=\"points\"/><g class=\"points\"/><g class=\"points\"/><g class=\"points\"/><g class=\"points\"/><g class=\"points\"/><g class=\"points\"/></g></g><g class=\"scatterlayer mlayer\"><g class=\"trace scatter tracee7f689\" style=\"stroke-miterlimit: 2; opacity: 1;\"><g class=\"fills\"/><g class=\"errorbars\"/><g class=\"lines\"><path class=\"js-line\" d=\"M21.25,141.6L63.75,126.17L106.25,121.4L148.75,97.42L191.25,106.74L233.75,49.28L276.25,88.24L318.75,13.6\" style=\"vector-effect: none; fill: none; stroke: rgb(220, 20, 60); stroke-opacity: 1; stroke-width: 3px; opacity: 1;\"/></g><g class=\"points\"><path class=\"point\" transform=\"translate(21.25,141.6)\" d=\"M3,0A3,3 0 1,1 0,-3A3,3 0 0,1 3,0Z\" style=\"opacity: 1; stroke-width: 0px; fill: rgb(220, 20, 60); fill-opacity: 1;\"/><path class=\"point\" transform=\"translate(63.75,126.17)\" d=\"M3,0A3,3 0 1,1 0,-3A3,3 0 0,1 3,0Z\" style=\"opacity: 1; stroke-width: 0px; fill: rgb(220, 20, 60); fill-opacity: 1;\"/><path class=\"point\" transform=\"translate(106.25,121.4)\" d=\"M3,0A3,3 0 1,1 0,-3A3,3 0 0,1 3,0Z\" style=\"opacity: 1; stroke-width: 0px; fill: rgb(220, 20, 60); fill-opacity: 1;\"/><path class=\"point\" transform=\"translate(148.75,97.42)\" d=\"M3,0A3,3 0 1,1 0,-3A3,3 0 0,1 3,0Z\" style=\"opacity: 1; stroke-width: 0px; fill: rgb(220, 20, 60); fill-opacity: 1;\"/><path class=\"point\" transform=\"translate(191.25,106.74)\" d=\"M3,0A3,3 0 1,1 0,-3A3,3 0 0,1 3,0Z\" style=\"opacity: 1; stroke-width: 0px; fill: rgb(220, 20, 60); fill-opacity: 1;\"/><path class=\"point\" transform=\"translate(233.75,49.28)\" d=\"M3,0A3,3 0 1,1 0,-3A3,3 0 0,1 3,0Z\" style=\"opacity: 1; stroke-width: 0px; fill: rgb(220, 20, 60); fill-opacity: 1;\"/><path class=\"point\" transform=\"translate(276.25,88.24)\" d=\"M3,0A3,3 0 1,1 0,-3A3,3 0 0,1 3,0Z\" style=\"opacity: 1; stroke-width: 0px; fill: rgb(220, 20, 60); fill-opacity: 1;\"/><path class=\"point\" transform=\"translate(318.75,13.6)\" d=\"M3,0A3,3 0 1,1 0,-3A3,3 0 0,1 3,0Z\" style=\"opacity: 1; stroke-width: 0px; fill: rgb(220, 20, 60); fill-opacity: 1;\"/></g><g class=\"text\"/></g></g></g><g class=\"overplot\"/><path class=\"xlines-above crisp\" d=\"M0,0\" style=\"fill: none;\"/><path class=\"ylines-above crisp\" d=\"M0,0\" style=\"fill: none;\"/><g class=\"overlines-above\"/><g class=\"xaxislayer-above\"><g class=\"xtick\"><text text-anchor=\"start\" x=\"0\" y=\"270\" transform=\"translate(101.25,0) rotate(45,0,264)\" style=\"font-family: 'Open Sans', verdana, arial, sans-serif; font-size: 12px; fill: rgb(42, 63, 95); fill-opacity: 1; white-space: pre; opacity: 1;\">[0.00, 0.01]</text></g><g class=\"xtick\"><text text-anchor=\"start\" x=\"0\" y=\"270\" transform=\"translate(143.75,0) rotate(45,0,264)\" style=\"font-family: 'Open Sans', verdana, arial, sans-serif; font-size: 12px; fill: rgb(42, 63, 95); fill-opacity: 1; white-space: pre; opacity: 1;\">[0.01, 0.11]</text></g><g class=\"xtick\"><text text-anchor=\"start\" x=\"0\" y=\"270\" transform=\"translate(186.25,0) rotate(45,0,264)\" style=\"font-family: 'Open Sans', verdana, arial, sans-serif; font-size: 12px; fill: rgb(42, 63, 95); fill-opacity: 1; white-space: pre; opacity: 1;\">[0.11, 0.21]</text></g><g class=\"xtick\"><text text-anchor=\"start\" x=\"0\" y=\"270\" transform=\"translate(228.75,0) rotate(45,0,264)\" style=\"font-family: 'Open Sans', verdana, arial, sans-serif; font-size: 12px; fill: rgb(42, 63, 95); fill-opacity: 1; white-space: pre; opacity: 1;\">[0.21, 0.31]</text></g><g class=\"xtick\"><text text-anchor=\"start\" x=\"0\" y=\"270\" transform=\"translate(271.25,0) rotate(45,0,264)\" style=\"font-family: 'Open Sans', verdana, arial, sans-serif; font-size: 12px; fill: rgb(42, 63, 95); fill-opacity: 1; white-space: pre; opacity: 1;\">[0.31, 0.41]</text></g><g class=\"xtick\"><text text-anchor=\"start\" x=\"0\" y=\"270\" transform=\"translate(313.75,0) rotate(45,0,264)\" style=\"font-family: 'Open Sans', verdana, arial, sans-serif; font-size: 12px; fill: rgb(42, 63, 95); fill-opacity: 1; white-space: pre; opacity: 1;\">[0.41, 0.51]</text></g><g class=\"xtick\"><text text-anchor=\"start\" x=\"0\" y=\"270\" transform=\"translate(356.25,0) rotate(45,0,264)\" style=\"font-family: 'Open Sans', verdana, arial, sans-serif; font-size: 12px; fill: rgb(42, 63, 95); fill-opacity: 1; white-space: pre; opacity: 1;\">[0.51, 0.61]</text></g><g class=\"xtick\"><text text-anchor=\"start\" x=\"0\" y=\"270\" transform=\"translate(398.75,0) rotate(45,0,264)\" style=\"font-family: 'Open Sans', verdana, arial, sans-serif; font-size: 12px; fill: rgb(42, 63, 95); fill-opacity: 1; white-space: pre; opacity: 1;\">[0.61, 0.67]</text></g></g><g class=\"yaxislayer-above\"><g class=\"ytick\"><text text-anchor=\"end\" x=\"79\" y=\"4.199999999999999\" transform=\"translate(0,210.67)\" style=\"font-family: 'Open Sans', verdana, arial, sans-serif; font-size: 12px; fill: rgb(42, 63, 95); fill-opacity: 1; white-space: pre; opacity: 1;\">0.2</text></g><g class=\"ytick\"><text text-anchor=\"end\" x=\"79\" y=\"4.199999999999999\" style=\"font-family: 'Open Sans', verdana, arial, sans-serif; font-size: 12px; fill: rgb(42, 63, 95); fill-opacity: 1; white-space: pre; opacity: 1;\" transform=\"translate(0,163.09)\">0.4</text></g><g class=\"ytick\"><text text-anchor=\"end\" x=\"79\" y=\"4.199999999999999\" style=\"font-family: 'Open Sans', verdana, arial, sans-serif; font-size: 12px; fill: rgb(42, 63, 95); fill-opacity: 1; white-space: pre; opacity: 1;\" transform=\"translate(0,115.50999999999999)\">0.6</text></g><g class=\"ytick\"><text text-anchor=\"end\" x=\"79\" y=\"4.199999999999999\" style=\"font-family: 'Open Sans', verdana, arial, sans-serif; font-size: 12px; fill: rgb(42, 63, 95); fill-opacity: 1; white-space: pre; opacity: 1;\" transform=\"translate(0,67.93)\">0.8</text></g></g><g class=\"overaxes-above\"/></g></g><g class=\"polarlayer\"/><g class=\"smithlayer\"/><g class=\"ternarylayer\"/><g class=\"geolayer\"/><g class=\"funnelarealayer\"/><g class=\"pielayer\"/><g class=\"iciclelayer\"/><g class=\"treemaplayer\"/><g class=\"sunburstlayer\"/><g class=\"glimages\"/><defs id=\"topdefs-1b2c2c\"><g class=\"clips\"/></defs><g class=\"layer-above\"><g class=\"imagelayer\"/><g class=\"shapelayer\"/></g><g class=\"infolayer\"><g class=\"g-gtitle\"/><g class=\"g-xtitle\"><text class=\"xtitle\" x=\"250\" y=\"337.1232421875\" text-anchor=\"middle\" style=\"font-family: 'Open Sans', verdana, arial, sans-serif; font-size: 14px; fill: rgb(42, 63, 95); opacity: 1; font-weight: normal; white-space: pre;\">Universality Score</text></g><g class=\"g-ytitle\"><text class=\"ytitle\" transform=\"rotate(-90,38.0125,158.5)\" x=\"38.0125\" y=\"158.5\" text-anchor=\"middle\" style=\"font-family: 'Open Sans', verdana, arial, sans-serif; font-size: 14px; fill: rgb(42, 63, 95); opacity: 1; font-weight: normal; white-space: pre;\">Hijacking Strength</text></g></g></svg>"
      ]
     },
     "metadata": {},
     "output_type": "display_data"
    }
   ],
   "source": [
    "import plotly.express as px\n",
    "import plotly.graph_objects as go\n",
    "import pandas as pd\n",
    "import numpy as np\n",
    "\n",
    "\n",
    "# Bin the universality scores\n",
    "bins = intervals\n",
    "bins = [0, 0.01] + np.arange(0.11, data_df.univ_score.max(), 0.10).tolist() + [data_df.univ_score.max()]\n",
    "labels = [f\"[{bins[i]:.2f}, {bins[i+1]:.2f}]\" for i in range(len(bins)-1)]\n",
    "agg_df[\"univ_bin\"] = pd.cut(agg_df[\"suffix_univ\"], bins=bins, labels=labels, include_lowest=True)\n",
    "agg_df.sort_values(by=\"univ_bin\", inplace=True)\n",
    "\n",
    "# Compute means per bin\n",
    "trend_df = agg_df.groupby(\"univ_bin\", observed=True)[\"hijacking_strength\"].median().reset_index()\n",
    "\n",
    "# Plot boxplot using PX\n",
    "fig = px.box(\n",
    "    agg_df, x=\"univ_bin\", y=\"hijacking_strength\", points=\"outliers\",\n",
    "    labels={\n",
    "        \"univ_bin\": \"Universality Score\",\n",
    "        \"hijacking_strength\": \"Hijacking Strength\"\n",
    "    },\n",
    "    width=500, height=350,\n",
    "    color_discrete_sequence=[\"cornflowerblue\"]\n",
    ")\n",
    "\n",
    "# Add trendline over medians\n",
    "fig.add_trace(go.Scatter(\n",
    "    x=trend_df[\"univ_bin\"],\n",
    "    y=trend_df[\"hijacking_strength\"],\n",
    "    mode=\"lines+markers\",\n",
    "    line=dict(color=\"crimson\", width=3),\n",
    "    marker=dict(size=6),\n",
    "    name=\"Median Trend\"\n",
    "))\n",
    "\n",
    "# Layout tweaks\n",
    "fig.update_layout(\n",
    "    xaxis_tickangle=45,\n",
    "    showlegend=False,\n",
    ")\n",
    "\n",
    "fig.show()\n"
   ]
  }
 ],
 "metadata": {
  "kernelspec": {
   "display_name": "Python 3 (ipykernel)",
   "language": "python",
   "name": "python3"
  },
  "language_info": {
   "codemirror_mode": {
    "name": "ipython",
    "version": 3
   },
   "file_extension": ".py",
   "mimetype": "text/x-python",
   "name": "python",
   "nbconvert_exporter": "python",
   "pygments_lexer": "ipython3",
   "version": "3.8.5"
  }
 },
 "nbformat": 4,
 "nbformat_minor": 5
}
